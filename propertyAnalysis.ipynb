{
 "cells": [
  {
   "cell_type": "markdown",
   "source": [
    "# Edinburgh AirBnB Property Analysis\n",
    "#### Author: Pavel Khudov\n"
   ],
   "metadata": {
    "collapsed": false,
    "pycharm": {
     "name": "#%% md\n"
    }
   }
  },
  {
   "cell_type": "code",
   "execution_count": 87,
   "outputs": [],
   "source": [
    "import pandas as pd\n",
    "import numpy as np\n",
    "import matplotlib.pyplot as plt\n",
    "import seaborn as sns\n",
    "import re\n",
    "from sklearn.decomposition import PCA\n",
    "from kneed import KneeLocator\n",
    "import statsmodels.formula.api as smf"
   ],
   "metadata": {
    "collapsed": false,
    "pycharm": {
     "name": "#%%\n"
    }
   }
  },
  {
   "cell_type": "markdown",
   "source": [
    "Import the dirty data and show the first 5 rows:"
   ],
   "metadata": {
    "collapsed": false,
    "pycharm": {
     "name": "#%% md\n"
    }
   }
  },
  {
   "cell_type": "code",
   "execution_count": 88,
   "outputs": [
    {
     "data": {
      "text/plain": "       id                          listing_url       scrape_id last_scraped  \\\n0   15420   https://www.airbnb.com/rooms/15420  20221216161317   2022-12-16   \n1  707097  https://www.airbnb.com/rooms/707097  20221216161317   2022-12-16   \n2  728199  https://www.airbnb.com/rooms/728199  20221216161317   2022-12-16   \n3  732008  https://www.airbnb.com/rooms/732008  20221216161317   2022-12-16   \n4  744710  https://www.airbnb.com/rooms/744710  20221216161317   2022-12-16   \n\n        source                                               name  \\\n0  city scrape                  Georgian Boutique Apt City Centre   \n1  city scrape  Centre Royal Mile Apartment 3 bedrooms 2 bathr...   \n2  city scrape   Private room in central, spacious and comfy flat   \n3  city scrape                          51 18 Caledonian Crescent   \n4  city scrape  Refurbished Flat in a Georgian Era Building in...   \n\n                                         description  \\\n0  Stunning, spacious ground floor apartment minu...   \n1                                                NaN   \n2  Fantastic main door flat over two levels withi...   \n3  This beautiful third floor apartment is set in...   \n4  A stunning apartment in the heart of Edinburgh...   \n\n                               neighborhood_overview  \\\n0  The neighbourhood is in the historic New Town,...   \n1  The location is the perfect for tourism , shor...   \n2  Great location for access to the city centre, ...   \n3                                                NaN   \n4  The apartment is in a Central Edinburgh neighb...   \n\n                                         picture_url  host_id  ...  \\\n0  https://a0.muscache.com/pictures/cf69631f-4194...    60423  ...   \n1  https://a0.muscache.com/pictures/6e2ded8d-f20b...  3092851  ...   \n2  https://a0.muscache.com/pictures/11315577/0091...  3776412  ...   \n3  https://a0.muscache.com/pictures/prohost-api/H...  3810279  ...   \n4  https://a0.muscache.com/pictures/monet/Select-...  3737047  ...   \n\n  review_scores_communication review_scores_location review_scores_value  \\\n0                        4.98                   4.98                4.91   \n1                        4.72                   4.94                4.09   \n2                        4.97                   4.73                4.79   \n3                        4.81                   4.71                4.70   \n4                        4.96                   4.96                4.86   \n\n  license instant_bookable calculated_host_listings_count  \\\n0     NaN                f                              1   \n1     NaN                t                              8   \n2     NaN                f                              1   \n3     NaN                t                              2   \n4     NaN                t                              1   \n\n  calculated_host_listings_count_entire_homes  \\\n0                                           1   \n1                                           6   \n2                                           0   \n3                                           2   \n4                                           1   \n\n  calculated_host_listings_count_private_rooms  \\\n0                                            0   \n1                                            2   \n2                                            1   \n3                                            0   \n4                                            0   \n\n  calculated_host_listings_count_shared_rooms reviews_per_month  \n0                                           0              3.10  \n1                                           0              0.55  \n2                                           0              2.86  \n3                                           0              2.27  \n4                                           0              1.73  \n\n[5 rows x 75 columns]",
      "text/html": "<div>\n<style scoped>\n    .dataframe tbody tr th:only-of-type {\n        vertical-align: middle;\n    }\n\n    .dataframe tbody tr th {\n        vertical-align: top;\n    }\n\n    .dataframe thead th {\n        text-align: right;\n    }\n</style>\n<table border=\"1\" class=\"dataframe\">\n  <thead>\n    <tr style=\"text-align: right;\">\n      <th></th>\n      <th>id</th>\n      <th>listing_url</th>\n      <th>scrape_id</th>\n      <th>last_scraped</th>\n      <th>source</th>\n      <th>name</th>\n      <th>description</th>\n      <th>neighborhood_overview</th>\n      <th>picture_url</th>\n      <th>host_id</th>\n      <th>...</th>\n      <th>review_scores_communication</th>\n      <th>review_scores_location</th>\n      <th>review_scores_value</th>\n      <th>license</th>\n      <th>instant_bookable</th>\n      <th>calculated_host_listings_count</th>\n      <th>calculated_host_listings_count_entire_homes</th>\n      <th>calculated_host_listings_count_private_rooms</th>\n      <th>calculated_host_listings_count_shared_rooms</th>\n      <th>reviews_per_month</th>\n    </tr>\n  </thead>\n  <tbody>\n    <tr>\n      <th>0</th>\n      <td>15420</td>\n      <td>https://www.airbnb.com/rooms/15420</td>\n      <td>20221216161317</td>\n      <td>2022-12-16</td>\n      <td>city scrape</td>\n      <td>Georgian Boutique Apt City Centre</td>\n      <td>Stunning, spacious ground floor apartment minu...</td>\n      <td>The neighbourhood is in the historic New Town,...</td>\n      <td>https://a0.muscache.com/pictures/cf69631f-4194...</td>\n      <td>60423</td>\n      <td>...</td>\n      <td>4.98</td>\n      <td>4.98</td>\n      <td>4.91</td>\n      <td>NaN</td>\n      <td>f</td>\n      <td>1</td>\n      <td>1</td>\n      <td>0</td>\n      <td>0</td>\n      <td>3.10</td>\n    </tr>\n    <tr>\n      <th>1</th>\n      <td>707097</td>\n      <td>https://www.airbnb.com/rooms/707097</td>\n      <td>20221216161317</td>\n      <td>2022-12-16</td>\n      <td>city scrape</td>\n      <td>Centre Royal Mile Apartment 3 bedrooms 2 bathr...</td>\n      <td>NaN</td>\n      <td>The location is the perfect for tourism , shor...</td>\n      <td>https://a0.muscache.com/pictures/6e2ded8d-f20b...</td>\n      <td>3092851</td>\n      <td>...</td>\n      <td>4.72</td>\n      <td>4.94</td>\n      <td>4.09</td>\n      <td>NaN</td>\n      <td>t</td>\n      <td>8</td>\n      <td>6</td>\n      <td>2</td>\n      <td>0</td>\n      <td>0.55</td>\n    </tr>\n    <tr>\n      <th>2</th>\n      <td>728199</td>\n      <td>https://www.airbnb.com/rooms/728199</td>\n      <td>20221216161317</td>\n      <td>2022-12-16</td>\n      <td>city scrape</td>\n      <td>Private room in central, spacious and comfy flat</td>\n      <td>Fantastic main door flat over two levels withi...</td>\n      <td>Great location for access to the city centre, ...</td>\n      <td>https://a0.muscache.com/pictures/11315577/0091...</td>\n      <td>3776412</td>\n      <td>...</td>\n      <td>4.97</td>\n      <td>4.73</td>\n      <td>4.79</td>\n      <td>NaN</td>\n      <td>f</td>\n      <td>1</td>\n      <td>0</td>\n      <td>1</td>\n      <td>0</td>\n      <td>2.86</td>\n    </tr>\n    <tr>\n      <th>3</th>\n      <td>732008</td>\n      <td>https://www.airbnb.com/rooms/732008</td>\n      <td>20221216161317</td>\n      <td>2022-12-16</td>\n      <td>city scrape</td>\n      <td>51 18 Caledonian Crescent</td>\n      <td>This beautiful third floor apartment is set in...</td>\n      <td>NaN</td>\n      <td>https://a0.muscache.com/pictures/prohost-api/H...</td>\n      <td>3810279</td>\n      <td>...</td>\n      <td>4.81</td>\n      <td>4.71</td>\n      <td>4.70</td>\n      <td>NaN</td>\n      <td>t</td>\n      <td>2</td>\n      <td>2</td>\n      <td>0</td>\n      <td>0</td>\n      <td>2.27</td>\n    </tr>\n    <tr>\n      <th>4</th>\n      <td>744710</td>\n      <td>https://www.airbnb.com/rooms/744710</td>\n      <td>20221216161317</td>\n      <td>2022-12-16</td>\n      <td>city scrape</td>\n      <td>Refurbished Flat in a Georgian Era Building in...</td>\n      <td>A stunning apartment in the heart of Edinburgh...</td>\n      <td>The apartment is in a Central Edinburgh neighb...</td>\n      <td>https://a0.muscache.com/pictures/monet/Select-...</td>\n      <td>3737047</td>\n      <td>...</td>\n      <td>4.96</td>\n      <td>4.96</td>\n      <td>4.86</td>\n      <td>NaN</td>\n      <td>t</td>\n      <td>1</td>\n      <td>1</td>\n      <td>0</td>\n      <td>0</td>\n      <td>1.73</td>\n    </tr>\n  </tbody>\n</table>\n<p>5 rows × 75 columns</p>\n</div>"
     },
     "execution_count": 88,
     "metadata": {},
     "output_type": "execute_result"
    }
   ],
   "source": [
    "# Read data\n",
    "dirty_listings_df = pd.read_csv('https://www.inf.ed.ac.uk/teaching/courses/fds/data/project-2022-2023/airbnb/listings.csv.gz')\n",
    "dirty_listings_df.head()"
   ],
   "metadata": {
    "collapsed": false,
    "pycharm": {
     "name": "#%%\n"
    }
   }
  },
  {
   "cell_type": "markdown",
   "source": [
    "We start cleaning the data by deleting the columns that appear irrelevant, such as the urls, ids, scrape data, etc. We also delete the neighbourhood column, because it is the same for all properties - Edinburgh. Because our research question is based on the features of the property, we will not take into account the information about the host, event though it might be relevant. Neither we will consider the information about the property that is not a feature, such as maximum nights availabilty, etc. Nevertheless, we will leave the ratings, as they are indicative of cleanliness, location etc."
   ],
   "metadata": {
    "collapsed": false,
    "pycharm": {
     "name": "#%% md\n"
    }
   }
  },
  {
   "cell_type": "code",
   "execution_count": 89,
   "outputs": [
    {
     "data": {
      "text/plain": "                      neighbourhood_cleansed  neighbourhood_group_cleansed  \\\n0  Old Town, Princes Street and Leith Street                           NaN   \n1  Old Town, Princes Street and Leith Street                           NaN   \n2                                   Polwarth                           NaN   \n3                   Dalry and Fountainbridge                           NaN   \n4                              Deans Village                           NaN   \n\n   latitude  longitude                property_type        room_type  \\\n0  55.95759   -3.18805           Entire rental unit  Entire home/apt   \n1  55.94980   -3.18354                 Entire condo  Entire home/apt   \n2  55.93692   -3.22414  Private room in rental unit     Private room   \n3  55.94192   -3.21878           Entire rental unit  Entire home/apt   \n4  55.95324   -3.20368           Entire rental unit  Entire home/apt   \n\n   accommodates  bathrooms  bathrooms_text  bedrooms  ...    price  \\\n0             2        NaN          1 bath       1.0  ...  $114.00   \n1             9        NaN         2 baths       3.0  ...  $598.00   \n2             3        NaN  1 private bath       1.0  ...   $60.00   \n3            10        NaN         2 baths       4.0  ...  $162.00   \n4             4        NaN          1 bath       2.0  ...  $138.00   \n\n  calendar_updated review_scores_rating  review_scores_accuracy  \\\n0              NaN                 4.97                    4.98   \n1              NaN                 4.38                    4.32   \n2              NaN                 4.82                    4.86   \n3              NaN                 4.74                    4.81   \n4              NaN                 4.96                    4.95   \n\n   review_scores_cleanliness  review_scores_checkin  \\\n0                       4.96                   4.97   \n1                       4.40                   4.69   \n2                       4.81                   4.95   \n3                       4.80                   4.84   \n4                       4.96                   4.93   \n\n   review_scores_communication  review_scores_location  review_scores_value  \\\n0                         4.98                    4.98                 4.91   \n1                         4.72                    4.94                 4.09   \n2                         4.97                    4.73                 4.79   \n3                         4.81                    4.71                 4.70   \n4                         4.96                    4.96                 4.86   \n\n   license  \n0      NaN  \n1      NaN  \n2      NaN  \n3      NaN  \n4      NaN  \n\n[5 rows x 22 columns]",
      "text/html": "<div>\n<style scoped>\n    .dataframe tbody tr th:only-of-type {\n        vertical-align: middle;\n    }\n\n    .dataframe tbody tr th {\n        vertical-align: top;\n    }\n\n    .dataframe thead th {\n        text-align: right;\n    }\n</style>\n<table border=\"1\" class=\"dataframe\">\n  <thead>\n    <tr style=\"text-align: right;\">\n      <th></th>\n      <th>neighbourhood_cleansed</th>\n      <th>neighbourhood_group_cleansed</th>\n      <th>latitude</th>\n      <th>longitude</th>\n      <th>property_type</th>\n      <th>room_type</th>\n      <th>accommodates</th>\n      <th>bathrooms</th>\n      <th>bathrooms_text</th>\n      <th>bedrooms</th>\n      <th>...</th>\n      <th>price</th>\n      <th>calendar_updated</th>\n      <th>review_scores_rating</th>\n      <th>review_scores_accuracy</th>\n      <th>review_scores_cleanliness</th>\n      <th>review_scores_checkin</th>\n      <th>review_scores_communication</th>\n      <th>review_scores_location</th>\n      <th>review_scores_value</th>\n      <th>license</th>\n    </tr>\n  </thead>\n  <tbody>\n    <tr>\n      <th>0</th>\n      <td>Old Town, Princes Street and Leith Street</td>\n      <td>NaN</td>\n      <td>55.95759</td>\n      <td>-3.18805</td>\n      <td>Entire rental unit</td>\n      <td>Entire home/apt</td>\n      <td>2</td>\n      <td>NaN</td>\n      <td>1 bath</td>\n      <td>1.0</td>\n      <td>...</td>\n      <td>$114.00</td>\n      <td>NaN</td>\n      <td>4.97</td>\n      <td>4.98</td>\n      <td>4.96</td>\n      <td>4.97</td>\n      <td>4.98</td>\n      <td>4.98</td>\n      <td>4.91</td>\n      <td>NaN</td>\n    </tr>\n    <tr>\n      <th>1</th>\n      <td>Old Town, Princes Street and Leith Street</td>\n      <td>NaN</td>\n      <td>55.94980</td>\n      <td>-3.18354</td>\n      <td>Entire condo</td>\n      <td>Entire home/apt</td>\n      <td>9</td>\n      <td>NaN</td>\n      <td>2 baths</td>\n      <td>3.0</td>\n      <td>...</td>\n      <td>$598.00</td>\n      <td>NaN</td>\n      <td>4.38</td>\n      <td>4.32</td>\n      <td>4.40</td>\n      <td>4.69</td>\n      <td>4.72</td>\n      <td>4.94</td>\n      <td>4.09</td>\n      <td>NaN</td>\n    </tr>\n    <tr>\n      <th>2</th>\n      <td>Polwarth</td>\n      <td>NaN</td>\n      <td>55.93692</td>\n      <td>-3.22414</td>\n      <td>Private room in rental unit</td>\n      <td>Private room</td>\n      <td>3</td>\n      <td>NaN</td>\n      <td>1 private bath</td>\n      <td>1.0</td>\n      <td>...</td>\n      <td>$60.00</td>\n      <td>NaN</td>\n      <td>4.82</td>\n      <td>4.86</td>\n      <td>4.81</td>\n      <td>4.95</td>\n      <td>4.97</td>\n      <td>4.73</td>\n      <td>4.79</td>\n      <td>NaN</td>\n    </tr>\n    <tr>\n      <th>3</th>\n      <td>Dalry and Fountainbridge</td>\n      <td>NaN</td>\n      <td>55.94192</td>\n      <td>-3.21878</td>\n      <td>Entire rental unit</td>\n      <td>Entire home/apt</td>\n      <td>10</td>\n      <td>NaN</td>\n      <td>2 baths</td>\n      <td>4.0</td>\n      <td>...</td>\n      <td>$162.00</td>\n      <td>NaN</td>\n      <td>4.74</td>\n      <td>4.81</td>\n      <td>4.80</td>\n      <td>4.84</td>\n      <td>4.81</td>\n      <td>4.71</td>\n      <td>4.70</td>\n      <td>NaN</td>\n    </tr>\n    <tr>\n      <th>4</th>\n      <td>Deans Village</td>\n      <td>NaN</td>\n      <td>55.95324</td>\n      <td>-3.20368</td>\n      <td>Entire rental unit</td>\n      <td>Entire home/apt</td>\n      <td>4</td>\n      <td>NaN</td>\n      <td>1 bath</td>\n      <td>2.0</td>\n      <td>...</td>\n      <td>$138.00</td>\n      <td>NaN</td>\n      <td>4.96</td>\n      <td>4.95</td>\n      <td>4.96</td>\n      <td>4.93</td>\n      <td>4.96</td>\n      <td>4.96</td>\n      <td>4.86</td>\n      <td>NaN</td>\n    </tr>\n  </tbody>\n</table>\n<p>5 rows × 22 columns</p>\n</div>"
     },
     "execution_count": 89,
     "metadata": {},
     "output_type": "execute_result"
    }
   ],
   "source": [
    "#Delete all meaningless columns, like links, ids, etc.\n",
    "listings_df = dirty_listings_df.drop([\"id\", \"listing_url\", \"scrape_id\", \"last_scraped\", \"source\" , \"picture_url\", \"host_id\", \"host_url\", \"host_thumbnail_url\", \"host_picture_url\", \"calendar_last_scraped\"], axis=1)\n",
    "\n",
    "#Neighbourhood is the same everywhere, so we can delete it\n",
    "listings_df = listings_df.drop([\"neighbourhood\"], axis=1)\n",
    "\n",
    "#Description, neighbourhood overview and host_about is a text, and we assume that name of the host is not relevant, so we can delete it. The location of the host could be relevant,however because we don't hava data about the relative location of all these locations, we won't get accurate results. Therfore we delete it as well.\n",
    "listings_df = listings_df.drop([\"description\", \"neighborhood_overview\", \"host_name\", \"host_about\", \"host_location\", 'host_since', 'host_response_time', 'host_acceptance_rate', 'host_is_superhost', 'host_neighbourhood',  'host_response_rate', 'host_listings_count', 'host_total_listings_count', 'host_verifications', 'host_has_profile_pic', 'host_identity_verified', 'minimum_nights', 'minimum_minimum_nights', 'minimum_maximum_nights', 'maximum_nights', 'maximum_minimum_nights', 'maximum_maximum_nights', 'minimum_nights_avg_ntm', 'maximum_nights_avg_ntm', 'has_availability', 'availability_365', 'availability_30', 'availability_60', 'availability_90','number_of_reviews','number_of_reviews_l30d','number_of_reviews_ltm', 'first_review', 'last_review','instant_bookable','calculated_host_listings_count', 'calculated_host_listings_count_entire_homes', 'calculated_host_listings_count_private_rooms', 'calculated_host_listings_count_shared_rooms', 'reviews_per_month'], axis=1)\n",
    "\n",
    "#The name of the property is not relevant to the analysis we are doing, so we can delete it. We still have indexes to identify the property.\n",
    "listings_df = listings_df.drop([\"name\"], axis=1)\n",
    "\n",
    "\n",
    "listings_df.head()"
   ],
   "metadata": {
    "collapsed": false,
    "pycharm": {
     "name": "#%%\n"
    }
   }
  },
  {
   "cell_type": "markdown",
   "source": [
    "There are a lot of missing values in the dataset. We can delete all columns with more than 20% of missing values."
   ],
   "metadata": {
    "collapsed": false,
    "pycharm": {
     "name": "#%% md\n"
    }
   }
  },
  {
   "cell_type": "code",
   "execution_count": 90,
   "outputs": [
    {
     "data": {
      "text/plain": "neighbourhood_cleansed           0\nlatitude                         0\nlongitude                        0\nproperty_type                    0\nroom_type                        0\naccommodates                     0\nbathrooms_text                  13\nbedrooms                       138\nbeds                           105\namenities                        0\nprice                            0\nreview_scores_rating           665\nreview_scores_accuracy         678\nreview_scores_cleanliness      678\nreview_scores_checkin          678\nreview_scores_communication    678\nreview_scores_location         678\nreview_scores_value            678\ndtype: int64"
     },
     "execution_count": 90,
     "metadata": {},
     "output_type": "execute_result"
    }
   ],
   "source": [
    "#Delete all columns with more than 20% of missing values\n",
    "listings_df = listings_df.dropna(thresh=len(listings_df) * 0.8, axis=1)\n",
    "#Show the rest of missing values\n",
    "listings_df.isna().sum()"
   ],
   "metadata": {
    "collapsed": false,
    "pycharm": {
     "name": "#%%\n"
    }
   }
  },
  {
   "cell_type": "markdown",
   "source": [
    "We convert those columns associated with time to corresponding datatype."
   ],
   "metadata": {
    "collapsed": false,
    "pycharm": {
     "name": "#%% md\n"
    }
   }
  },
  {
   "cell_type": "code",
   "execution_count": null,
   "outputs": [],
   "source": [
    "#Convert all dates to datetime\n",
    "listings_df[\"host_since\"] = pd.to_datetime(listings_df[\"host_since\"])\n",
    "listings_df[\"first_review\"] = pd.to_datetime(listings_df[\"first_review\"])\n",
    "listings_df[\"last_review\"] = pd.to_datetime(listings_df[\"last_review\"])\n",
    "listings_df.info()"
   ],
   "metadata": {
    "collapsed": false,
    "pycharm": {
     "name": "#%%\n"
    }
   }
  },
  {
   "cell_type": "markdown",
   "source": [
    "The variables that we want to predict are the ones related with the score, so we delete those rows where their values are missing. It is not fatal because there are not that many."
   ],
   "metadata": {
    "collapsed": false,
    "pycharm": {
     "name": "#%% md\n"
    }
   }
  },
  {
   "cell_type": "code",
   "execution_count": null,
   "outputs": [],
   "source": [
    "#Delete all rows where reviews are missing, because that is the variable we want to predict\n",
    "#listings_df = listings_df.dropna(subset=[\"review_scores_rating\", \"review_scores_accuracy\", \"review_scores_cleanliness\", \"review_scores_checkin\", \"review_scores_communication\", \"review_scores_location\", \"review_scores_value\"])\n",
    "#Reset the index\n",
    "listings_df = listings_df.reset_index(drop=True)\n",
    "listings_df.isna().sum()"
   ],
   "metadata": {
    "collapsed": false,
    "pycharm": {
     "name": "#%%\n"
    }
   }
  },
  {
   "cell_type": "markdown",
   "source": [
    "Because there are still some values missing, we replace them with the mean in the case of dates, and with the most frequency value in the case of other variables.  TODO: TO JUSTIFY"
   ],
   "metadata": {
    "collapsed": false,
    "pycharm": {
     "name": "#%% md\n"
    }
   }
  },
  {
   "cell_type": "code",
   "execution_count": null,
   "outputs": [],
   "source": [
    "#Replace all missing values in the columns of type date with the average of the dates, and reviews as well\n",
    "columns_to_fill = [\"host_since\", \"first_review\", \"last_review\", \"review_scores_rating\", \"review_scores_accuracy\", \"review_scores_cleanliness\", \"review_scores_checkin\", \"review_scores_communication\", \"review_scores_location\", \"review_scores_value\"]\n",
    "listings_df[columns_to_fill] = listings_df[columns_to_fill].fillna(listings_df[columns_to_fill].mean())\n",
    "\n",
    "#Replace all the rest of missing values with the most frequent value in the column\n",
    "listings_df = listings_df.fillna(listings_df.mode().iloc[0])\n",
    "\n",
    "listings_df.isna().sum()"
   ],
   "metadata": {
    "collapsed": false,
    "pycharm": {
     "name": "#%%\n"
    }
   }
  },
  {
   "cell_type": "markdown",
   "source": [
    "To be able to analyse the data, we have to convert some of the variables to the correct type. We also convert the string representation of a list to a string of comma-separated values."
   ],
   "metadata": {
    "collapsed": false,
    "pycharm": {
     "name": "#%% md\n"
    }
   }
  },
  {
   "cell_type": "code",
   "execution_count": null,
   "outputs": [],
   "source": [
    "#Convert t and f to True and False\n",
    "listings_df = listings_df.replace({\"t\": True, \"f\": False})\n",
    "\n",
    "#Convert all percentages to float\n",
    "listings_df[\"host_acceptance_rate\"] = listings_df[\"host_acceptance_rate\"].str.replace('%', '').astype('float') / 100.0\n",
    "#Convert all prices to float\n",
    "listings_df[\"price\"] = listings_df[\"price\"].str.replace('$', '').str.replace(',', '').astype('float')\n",
    "#Convert number of beds and bedrooms to int\n",
    "listings_df[\"beds\"] = listings_df[\"beds\"].astype('int')\n",
    "listings_df[\"bedrooms\"] = listings_df[\"bedrooms\"].astype('int')\n",
    "\n",
    "#Convert string representation of a list to string of comma-separated values\n",
    "listings_df[\"host_verifications\"] = listings_df[\"host_verifications\"].str.replace('[', '').str.replace(']', '').str.replace(\"'\", '')\n",
    "\n",
    "\n",
    "listings_df.head()"
   ],
   "metadata": {
    "collapsed": false,
    "pycharm": {
     "name": "#%%\n"
    }
   }
  },
  {
   "cell_type": "markdown",
   "source": [
    "We look at all the possible values of and see that it can be split into two columns, one indicating whether the bathroom is shared or not, and the other one indicating the number of bathrooms."
   ],
   "metadata": {
    "collapsed": false,
    "pycharm": {
     "name": "#%% md\n"
    }
   }
  },
  {
   "cell_type": "code",
   "execution_count": null,
   "outputs": [],
   "source": [
    "listings_df[\"bathrooms_text\"].value_counts()"
   ],
   "metadata": {
    "collapsed": false,
    "pycharm": {
     "name": "#%%\n"
    }
   }
  },
  {
   "cell_type": "code",
   "execution_count": null,
   "outputs": [],
   "source": [
    "\n",
    "#Create a column indicating whether a bathroom is shared or private\n",
    "listings_df.insert(14, \"shared_bathroom\",listings_df[\"bathrooms_text\"].str.contains(\"shared\"))\n",
    "\n",
    "#Extract the number of bathrooms using regular expression\n",
    "pattern = re.compile(r'\\d+')\n",
    "#If no number is found, assume 1 bathroom\n",
    "listings_df[\"bathrooms_text\"] = listings_df[\"bathrooms_text\"].apply(lambda x: int(pattern.search(x).group()) if pattern.search(x) else 1)\n",
    "listings_df.rename(columns={\"bathrooms_text\": \"bathrooms\"}, inplace=True)\n",
    "\n",
    "\n",
    "\n",
    "\n",
    "listings_df.head()"
   ],
   "metadata": {
    "collapsed": false,
    "pycharm": {
     "name": "#%%\n"
    }
   }
  },
  {
   "cell_type": "markdown",
   "source": [
    "Initially, the idea was to separate amenities column into dummy variables and include them into analysis. Nevertheless, there are so many values that applying regular expressions to group them seemed impossible in the amount of time. Therefore, the decision has been made to drop the column entirely and not include it into analysis."
   ],
   "metadata": {
    "collapsed": false,
    "pycharm": {
     "name": "#%% md\n"
    }
   }
  },
  {
   "cell_type": "code",
   "execution_count": null,
   "outputs": [],
   "source": [
    "#Temporary\n",
    "listings_df[\"amenities\"] = listings_df[\"amenities\"].str.replace('[', '').str.replace(']', '').str.replace('\"', '')\n",
    "amenities_expanded = listings_df['amenities'].str.get_dummies(sep=', ')\n",
    "print(len(amenities_expanded.columns.values.tolist()))\n",
    "amenities_expanded.columns.values.tolist()\n"
   ],
   "metadata": {
    "collapsed": false,
    "pycharm": {
     "name": "#%%\n"
    }
   }
  },
  {
   "cell_type": "code",
   "execution_count": null,
   "outputs": [],
   "source": [
    "listings_df = listings_df.drop([\"amenities\"], axis=1)\n",
    "\n",
    "listings_df.columns.tolist()"
   ],
   "metadata": {
    "collapsed": false,
    "pycharm": {
     "name": "#%%\n"
    }
   }
  },
  {
   "cell_type": "markdown",
   "source": [
    "With the rest of the columns, including the ones with comma separated values, we can create dummy variables for each of the values, because they are relatively clean and small in number."
   ],
   "metadata": {
    "collapsed": false,
    "pycharm": {
     "name": "#%% md\n"
    }
   }
  },
  {
   "cell_type": "code",
   "execution_count": null,
   "outputs": [],
   "source": [
    "host_verifications_expanded = listings_df['host_verifications'].str.get_dummies(sep=', ')\n",
    "# host_locations_expanded = listings_df['host_location'].str.get_dummies()\n",
    "neighborhood_expanded = listings_df['neighbourhood_cleansed'].str.get_dummies()\n",
    "property_type_expanded = listings_df['property_type'].str.get_dummies()\n",
    "room_type_expanded = listings_df['room_type'].str.get_dummies()\n",
    "\n",
    "#Once separated, we drop them\n",
    "listings_df = listings_df.drop([\"host_verifications\", \"neighbourhood_cleansed\", \"property_type\", \"room_type\"], axis=1)\n",
    "\n",
    "\n",
    "#Join the dummy variable columns with the original dataframe\n",
    "#listings_df = pd.concat([listings_df, host_verifications_expanded, host_locations_expanded, neighborhood_expanded, property_type_expanded, room_type_expanded], axis=1)\n",
    "listings_df = pd.concat([listings_df, host_verifications_expanded, neighborhood_expanded, property_type_expanded, room_type_expanded], axis=1)\n",
    "\n",
    "\n",
    "listings_df.head()"
   ],
   "metadata": {
    "collapsed": false,
    "pycharm": {
     "name": "#%%\n"
    }
   }
  },
  {
   "cell_type": "markdown",
   "source": [
    "There are two columns that have similar information: \"property_type\" and \"room_type\". In some of them, the information is repeated, for example in both columns the value is \"Private room\". We group them, maintaining the largest value so that it is true if any of the values is true."
   ],
   "metadata": {
    "collapsed": false,
    "pycharm": {
     "name": "#%% md\n"
    }
   }
  },
  {
   "cell_type": "code",
   "execution_count": null,
   "outputs": [],
   "source": [
    "#Merge columns with the same name keeping the largest value\n",
    "listings_df = listings_df.groupby(listings_df.columns, axis=1).max()\n",
    "listings_df.info()\n"
   ],
   "metadata": {
    "collapsed": false,
    "pycharm": {
     "name": "#%%\n"
    }
   }
  },
  {
   "cell_type": "code",
   "execution_count": null,
   "outputs": [],
   "source": [
    "\n",
    "#listings_df.drop([\"host_since\", \"first_review\", \"last_review\"], axis=1, inplace=True)"
   ],
   "metadata": {
    "collapsed": false,
    "pycharm": {
     "name": "#%%\n"
    }
   }
  },
  {
   "cell_type": "markdown",
   "source": [
    "### PCA Analysis\n",
    "Once the data is all cleaned, we see that there are too many dimensions to the dataset, so we perform Principal Component Analysis."
   ],
   "metadata": {
    "collapsed": false,
    "pycharm": {
     "name": "#%% md\n"
    }
   }
  },
  {
   "cell_type": "markdown",
   "source": [
    "The first step is to standardize the data. The library function did not work on date data type, so we create our own function."
   ],
   "metadata": {
    "collapsed": false,
    "pycharm": {
     "name": "#%% md\n"
    }
   }
  },
  {
   "cell_type": "code",
   "execution_count": null,
   "outputs": [],
   "source": [
    "\n",
    "#Standardize the data, built-in function didn't work with dates\n",
    "def standardize(df):\n",
    "    return df.apply(lambda x: (x-x.mean())/x.std())\n",
    "\n",
    "\n",
    "\n",
    "standardized = standardize(listings_df)\n",
    "standardized.head()\n",
    "#print(listings_df.columns.values)\n",
    "#print(standardize(listings_df).columns.values)\n",
    "#for i in range(len(listings_df.columns.values.tolist())):\n",
    "     #if listings_df.columns.values.tolist()[i] != standardized.columns.values.tolist()[i]:\n",
    "         #print(listings_df.columns.values.tolist()[i]+ \" != \" + standardized.columns.values.tolist()[i])range(len(listings_df.columns.values.tolist()))"
   ],
   "metadata": {
    "collapsed": false,
    "pycharm": {
     "name": "#%%\n"
    }
   }
  },
  {
   "cell_type": "markdown",
   "source": [
    "We apply PCA to standardized data"
   ],
   "metadata": {
    "collapsed": false,
    "pycharm": {
     "name": "#%% md\n"
    }
   }
  },
  {
   "cell_type": "code",
   "execution_count": null,
   "outputs": [],
   "source": [
    "\n",
    "pca = PCA().fit(standardized.values)\n",
    "print(pca.explained_variance_) # Eigenvalues\n",
    "print(pca.components_) # Eigenvector (C"
   ],
   "metadata": {
    "collapsed": false,
    "pycharm": {
     "name": "#%%\n"
    }
   }
  },
  {
   "cell_type": "markdown",
   "source": [
    "We create a separate function that applies PCA and orders the PCs in the descending order."
   ],
   "metadata": {
    "collapsed": false,
    "pycharm": {
     "name": "#%% md\n"
    }
   }
  },
  {
   "cell_type": "code",
   "execution_count": null,
   "outputs": [],
   "source": [
    "def sorted_PCs(df):\n",
    "    standardized = standardize(df)\n",
    "    pca = PCA().fit(standardized.values) # number of principal components that we are interested in\n",
    "    eigenvalues = pca.explained_variance_\n",
    "    eigenvectors = pca.components_\n",
    "\n",
    "    idx = eigenvalues.argsort()[::-1]\n",
    "    eigenvalues = eigenvalues[idx]\n",
    "    eigenvectors = eigenvectors[:,idx]\n",
    "    for i in range(len(eigenvalues)):\n",
    "        print(\"PC\" + str(i+1) + \" explains \" + str((eigenvalues[i] / np.sum(eigenvalues))*100) + \"% of the variance.\")\n",
    "    return eigenvalues, eigenvectors\n",
    "\n",
    "sorted_PCs(listings_df)"
   ],
   "metadata": {
    "collapsed": false,
    "pycharm": {
     "name": "#%%\n"
    }
   }
  },
  {
   "cell_type": "markdown",
   "source": [
    "Now we visualise the contribuition of each of the pcs to the variance in order to later find the elbow."
   ],
   "metadata": {
    "collapsed": false,
    "pycharm": {
     "name": "#%% md\n"
    }
   }
  },
  {
   "cell_type": "code",
   "execution_count": null,
   "outputs": [],
   "source": [
    "fig, ax = plt.subplots(figsize=(10,10))\n",
    "eigenvalues, eigenvectors = sorted_PCs(listings_df)\n",
    "percentExplained = eigenvalues / np.sum(eigenvalues)*100\n",
    "plt.plot(percentExplained)"
   ],
   "metadata": {
    "collapsed": false,
    "pycharm": {
     "name": "#%%\n"
    }
   }
  },
  {
   "cell_type": "markdown",
   "source": [
    "Using a function from \"kneed\" library, we find the knee in the plot. That will indicate the number of principal components that is optimal."
   ],
   "metadata": {
    "collapsed": false,
    "pycharm": {
     "name": "#%% md\n"
    }
   }
  },
  {
   "cell_type": "code",
   "execution_count": null,
   "outputs": [],
   "source": [
    "\n",
    "kneedle = KneeLocator(range(1, len(eigenvalues)+1), percentExplained, curve=\"convex\", direction=\"decreasing\")\n",
    "print(\"The optimal number of principal components is \" + str(kneedle.knee) + \".\")\n",
    "kneedle.plot_knee_normalized()\n"
   ],
   "metadata": {
    "collapsed": false,
    "pycharm": {
     "name": "#%%\n"
    }
   }
  },
  {
   "cell_type": "markdown",
   "source": [
    "It is 24, so we visualise the weights of each of the features in the table:"
   ],
   "metadata": {
    "collapsed": false,
    "pycharm": {
     "name": "#%% md\n"
    }
   }
  },
  {
   "cell_type": "code",
   "execution_count": null,
   "outputs": [],
   "source": [
    "pc_table = pd.DataFrame(eigenvectors[:24].T, columns=[\"PC\" + str(i+1) for i in range(len(eigenvalues[:24]))], index=listings_df.columns.values.tolist())\n",
    "pc_table"
   ],
   "metadata": {
    "collapsed": false,
    "pycharm": {
     "name": "#%%\n"
    }
   }
  },
  {
   "cell_type": "code",
   "execution_count": null,
   "outputs": [],
   "source": [
    "from IPython.display import display, HTML\n",
    "\n",
    "css = \"\"\"\n",
    ".output {\n",
    "    flex-direction: row;\n",
    "}\n",
    "\"\"\"\n",
    "\n",
    "HTML('<style>{}</style>'.format(css))\n",
    "\n",
    "#Largest absolute value in the PC\n",
    "display(pc_table.loc[pc_table[\"PC1\"].abs().nlargest(10).keys()][\"PC1\"])\n",
    "display(pc_table.loc[pc_table[\"PC2\"].abs().nlargest(10).keys()][\"PC2\"])\n",
    "display(pc_table.loc[pc_table[\"PC3\"].abs().nlargest(10).keys()][\"PC3\"])\n",
    "display(pc_table.loc[pc_table[\"PC4\"].abs().nlargest(10).keys()][\"PC4\"])\n",
    "display(pc_table.loc[pc_table[\"PC5\"].abs().nlargest(10).keys()][\"PC5\"])\n",
    "display(pc_table.loc[pc_table[\"PC6\"].abs().nlargest(10).keys()][\"PC6\"])\n",
    "display(pc_table.loc[pc_table[\"PC7\"].abs().nlargest(10).keys()][\"PC7\"])\n",
    "display(pc_table.loc[pc_table[\"PC8\"].abs().nlargest(10).keys()][\"PC8\"])\n",
    "display(pc_table.loc[pc_table[\"PC9\"].abs().nlargest(10).keys()][\"PC9\"])\n",
    "display(pc_table.loc[pc_table[\"PC10\"].abs().nlargest(10).keys()][\"PC10\"])\n",
    "display(pc_table.loc[pc_table[\"PC11\"].abs().nlargest(10).keys()][\"PC11\"])\n",
    "display(pc_table.loc[pc_table[\"PC12\"].abs().nlargest(10).keys()][\"PC12\"])\n",
    "display(pc_table.loc[pc_table[\"PC13\"].abs().nlargest(10).keys()][\"PC13\"])\n",
    "display(pc_table.loc[pc_table[\"PC14\"].abs().nlargest(10).keys()][\"PC14\"])\n",
    "display(pc_table.loc[pc_table[\"PC15\"].abs().nlargest(10).keys()][\"PC15\"])\n",
    "display(pc_table.loc[pc_table[\"PC16\"].abs().nlargest(10).keys()][\"PC16\"])\n",
    "display(pc_table.loc[pc_table[\"PC17\"].abs().nlargest(10).keys()][\"PC17\"])\n",
    "display(pc_table.loc[pc_table[\"PC18\"].abs().nlargest(10).keys()][\"PC18\"])\n",
    "display(pc_table.loc[pc_table[\"PC19\"].abs().nlargest(10).keys()][\"PC19\"])\n",
    "display(pc_table.loc[pc_table[\"PC20\"].abs().nlargest(10).keys()][\"PC20\"])\n",
    "display(pc_table.loc[pc_table[\"PC21\"].abs().nlargest(10).keys()][\"PC21\"])\n",
    "display(pc_table.loc[pc_table[\"PC22\"].abs().nlargest(10).keys()][\"PC22\"])\n",
    "display(pc_table.loc[pc_table[\"PC23\"].abs().nlargest(10).keys()][\"PC23\"])\n",
    "display(pc_table.loc[pc_table[\"PC24\"].abs().nlargest(10).keys()][\"PC24\"])"
   ],
   "metadata": {
    "collapsed": false,
    "pycharm": {
     "name": "#%%\n"
    }
   }
  },
  {
   "cell_type": "markdown",
   "source": [
    "Associated with rating"
   ],
   "metadata": {
    "collapsed": false,
    "pycharm": {
     "name": "#%% md\n"
    }
   }
  },
  {
   "cell_type": "code",
   "execution_count": null,
   "outputs": [],
   "source": [],
   "metadata": {
    "collapsed": false,
    "pycharm": {
     "name": "#%%\n"
    }
   }
  },
  {
   "cell_type": "markdown",
   "source": [
    "Associated with the features of the property"
   ],
   "metadata": {
    "collapsed": false,
    "pycharm": {
     "name": "#%% md\n"
    }
   }
  },
  {
   "cell_type": "code",
   "execution_count": null,
   "outputs": [],
   "source": [
    "#Apply PCA to the data\n",
    "pca = PCA(n_components=2)\n",
    "pca.fit(standardized.values)\n",
    "pca_data = pca.transform(standardized.values)\n",
    "pca_df = pd.DataFrame(pca_data, columns=[\"PC1\", \"PC2\"])\n",
    "pca_df.head()\n"
   ],
   "metadata": {
    "collapsed": false,
    "pycharm": {
     "name": "#%%\n"
    }
   }
  },
  {
   "cell_type": "code",
   "execution_count": null,
   "outputs": [],
   "source": [
    "sns.scatterplot(x=pca_data[:, 1], y=pca_data[:, 0])\n",
    "plt.xlabel('PC2')\n",
    "plt.ylabel('PC1')"
   ],
   "metadata": {
    "collapsed": false,
    "pycharm": {
     "name": "#%%\n"
    }
   }
  },
  {
   "cell_type": "code",
   "execution_count": null,
   "outputs": [],
   "source": [
    "model = smf.ols('PC1 ~ PC2', data=pca_df)\n",
    "results = model.fit()"
   ],
   "metadata": {
    "collapsed": false,
    "pycharm": {
     "name": "#%%\n"
    }
   }
  },
  {
   "cell_type": "code",
   "execution_count": null,
   "outputs": [],
   "source": [
    "sns.scatterplot(data=pca_df, y='PC1', x='PC2')\n",
    "y_hat = results.predict(pca_df[\"PC2\"])\n",
    "sns.lineplot(x=pca_df['PC2'], y=y_hat)"
   ],
   "metadata": {
    "collapsed": false,
    "pycharm": {
     "name": "#%%\n"
    }
   }
  },
  {
   "cell_type": "code",
   "execution_count": null,
   "outputs": [],
   "source": [
    "results.summary()"
   ],
   "metadata": {
    "collapsed": false,
    "pycharm": {
     "name": "#%%\n"
    }
   }
  },
  {
   "cell_type": "code",
   "execution_count": null,
   "outputs": [],
   "source": [],
   "metadata": {
    "collapsed": false,
    "pycharm": {
     "name": "#%%\n"
    }
   }
  }
 ],
 "metadata": {
  "kernelspec": {
   "display_name": "Python 3",
   "language": "python",
   "name": "python3"
  },
  "language_info": {
   "codemirror_mode": {
    "name": "ipython",
    "version": 2
   },
   "file_extension": ".py",
   "mimetype": "text/x-python",
   "name": "python",
   "nbconvert_exporter": "python",
   "pygments_lexer": "ipython2",
   "version": "2.7.6"
  }
 },
 "nbformat": 4,
 "nbformat_minor": 0
}