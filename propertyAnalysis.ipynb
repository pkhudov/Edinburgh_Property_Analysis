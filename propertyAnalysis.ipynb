{
 "cells": [
  {
   "cell_type": "markdown",
   "source": [
    "#\n",
    "#### Author: Pavel Khudov\n"
   ],
   "metadata": {
    "collapsed": false,
    "pycharm": {
     "name": "#%% md\n"
    }
   }
  },
  {
   "cell_type": "code",
   "execution_count": 186,
   "outputs": [],
   "source": [
    "import pandas as pd\n",
    "import numpy as np\n",
    "import re"
   ],
   "metadata": {
    "collapsed": false,
    "pycharm": {
     "name": "#%%\n"
    }
   }
  },
  {
   "cell_type": "code",
   "execution_count": 187,
   "outputs": [
    {
     "data": {
      "text/plain": "       id                          listing_url       scrape_id last_scraped  \\\n0   15420   https://www.airbnb.com/rooms/15420  20221216161317   2022-12-16   \n1  707097  https://www.airbnb.com/rooms/707097  20221216161317   2022-12-16   \n2  728199  https://www.airbnb.com/rooms/728199  20221216161317   2022-12-16   \n3  732008  https://www.airbnb.com/rooms/732008  20221216161317   2022-12-16   \n4  744710  https://www.airbnb.com/rooms/744710  20221216161317   2022-12-16   \n\n        source                                               name  \\\n0  city scrape                  Georgian Boutique Apt City Centre   \n1  city scrape  Centre Royal Mile Apartment 3 bedrooms 2 bathr...   \n2  city scrape   Private room in central, spacious and comfy flat   \n3  city scrape                          51 18 Caledonian Crescent   \n4  city scrape  Refurbished Flat in a Georgian Era Building in...   \n\n                                         description  \\\n0  Stunning, spacious ground floor apartment minu...   \n1                                                NaN   \n2  Fantastic main door flat over two levels withi...   \n3  This beautiful third floor apartment is set in...   \n4  A stunning apartment in the heart of Edinburgh...   \n\n                               neighborhood_overview  \\\n0  The neighbourhood is in the historic New Town,...   \n1  The location is the perfect for tourism , shor...   \n2  Great location for access to the city centre, ...   \n3                                                NaN   \n4  The apartment is in a Central Edinburgh neighb...   \n\n                                         picture_url  host_id  ...  \\\n0  https://a0.muscache.com/pictures/cf69631f-4194...    60423  ...   \n1  https://a0.muscache.com/pictures/6e2ded8d-f20b...  3092851  ...   \n2  https://a0.muscache.com/pictures/11315577/0091...  3776412  ...   \n3  https://a0.muscache.com/pictures/prohost-api/H...  3810279  ...   \n4  https://a0.muscache.com/pictures/monet/Select-...  3737047  ...   \n\n  review_scores_communication review_scores_location review_scores_value  \\\n0                        4.98                   4.98                4.91   \n1                        4.72                   4.94                4.09   \n2                        4.97                   4.73                4.79   \n3                        4.81                   4.71                4.70   \n4                        4.96                   4.96                4.86   \n\n  license instant_bookable calculated_host_listings_count  \\\n0     NaN                f                              1   \n1     NaN                t                              8   \n2     NaN                f                              1   \n3     NaN                t                              2   \n4     NaN                t                              1   \n\n  calculated_host_listings_count_entire_homes  \\\n0                                           1   \n1                                           6   \n2                                           0   \n3                                           2   \n4                                           1   \n\n  calculated_host_listings_count_private_rooms  \\\n0                                            0   \n1                                            2   \n2                                            1   \n3                                            0   \n4                                            0   \n\n  calculated_host_listings_count_shared_rooms reviews_per_month  \n0                                           0              3.10  \n1                                           0              0.55  \n2                                           0              2.86  \n3                                           0              2.27  \n4                                           0              1.73  \n\n[5 rows x 75 columns]",
      "text/html": "<div>\n<style scoped>\n    .dataframe tbody tr th:only-of-type {\n        vertical-align: middle;\n    }\n\n    .dataframe tbody tr th {\n        vertical-align: top;\n    }\n\n    .dataframe thead th {\n        text-align: right;\n    }\n</style>\n<table border=\"1\" class=\"dataframe\">\n  <thead>\n    <tr style=\"text-align: right;\">\n      <th></th>\n      <th>id</th>\n      <th>listing_url</th>\n      <th>scrape_id</th>\n      <th>last_scraped</th>\n      <th>source</th>\n      <th>name</th>\n      <th>description</th>\n      <th>neighborhood_overview</th>\n      <th>picture_url</th>\n      <th>host_id</th>\n      <th>...</th>\n      <th>review_scores_communication</th>\n      <th>review_scores_location</th>\n      <th>review_scores_value</th>\n      <th>license</th>\n      <th>instant_bookable</th>\n      <th>calculated_host_listings_count</th>\n      <th>calculated_host_listings_count_entire_homes</th>\n      <th>calculated_host_listings_count_private_rooms</th>\n      <th>calculated_host_listings_count_shared_rooms</th>\n      <th>reviews_per_month</th>\n    </tr>\n  </thead>\n  <tbody>\n    <tr>\n      <th>0</th>\n      <td>15420</td>\n      <td>https://www.airbnb.com/rooms/15420</td>\n      <td>20221216161317</td>\n      <td>2022-12-16</td>\n      <td>city scrape</td>\n      <td>Georgian Boutique Apt City Centre</td>\n      <td>Stunning, spacious ground floor apartment minu...</td>\n      <td>The neighbourhood is in the historic New Town,...</td>\n      <td>https://a0.muscache.com/pictures/cf69631f-4194...</td>\n      <td>60423</td>\n      <td>...</td>\n      <td>4.98</td>\n      <td>4.98</td>\n      <td>4.91</td>\n      <td>NaN</td>\n      <td>f</td>\n      <td>1</td>\n      <td>1</td>\n      <td>0</td>\n      <td>0</td>\n      <td>3.10</td>\n    </tr>\n    <tr>\n      <th>1</th>\n      <td>707097</td>\n      <td>https://www.airbnb.com/rooms/707097</td>\n      <td>20221216161317</td>\n      <td>2022-12-16</td>\n      <td>city scrape</td>\n      <td>Centre Royal Mile Apartment 3 bedrooms 2 bathr...</td>\n      <td>NaN</td>\n      <td>The location is the perfect for tourism , shor...</td>\n      <td>https://a0.muscache.com/pictures/6e2ded8d-f20b...</td>\n      <td>3092851</td>\n      <td>...</td>\n      <td>4.72</td>\n      <td>4.94</td>\n      <td>4.09</td>\n      <td>NaN</td>\n      <td>t</td>\n      <td>8</td>\n      <td>6</td>\n      <td>2</td>\n      <td>0</td>\n      <td>0.55</td>\n    </tr>\n    <tr>\n      <th>2</th>\n      <td>728199</td>\n      <td>https://www.airbnb.com/rooms/728199</td>\n      <td>20221216161317</td>\n      <td>2022-12-16</td>\n      <td>city scrape</td>\n      <td>Private room in central, spacious and comfy flat</td>\n      <td>Fantastic main door flat over two levels withi...</td>\n      <td>Great location for access to the city centre, ...</td>\n      <td>https://a0.muscache.com/pictures/11315577/0091...</td>\n      <td>3776412</td>\n      <td>...</td>\n      <td>4.97</td>\n      <td>4.73</td>\n      <td>4.79</td>\n      <td>NaN</td>\n      <td>f</td>\n      <td>1</td>\n      <td>0</td>\n      <td>1</td>\n      <td>0</td>\n      <td>2.86</td>\n    </tr>\n    <tr>\n      <th>3</th>\n      <td>732008</td>\n      <td>https://www.airbnb.com/rooms/732008</td>\n      <td>20221216161317</td>\n      <td>2022-12-16</td>\n      <td>city scrape</td>\n      <td>51 18 Caledonian Crescent</td>\n      <td>This beautiful third floor apartment is set in...</td>\n      <td>NaN</td>\n      <td>https://a0.muscache.com/pictures/prohost-api/H...</td>\n      <td>3810279</td>\n      <td>...</td>\n      <td>4.81</td>\n      <td>4.71</td>\n      <td>4.70</td>\n      <td>NaN</td>\n      <td>t</td>\n      <td>2</td>\n      <td>2</td>\n      <td>0</td>\n      <td>0</td>\n      <td>2.27</td>\n    </tr>\n    <tr>\n      <th>4</th>\n      <td>744710</td>\n      <td>https://www.airbnb.com/rooms/744710</td>\n      <td>20221216161317</td>\n      <td>2022-12-16</td>\n      <td>city scrape</td>\n      <td>Refurbished Flat in a Georgian Era Building in...</td>\n      <td>A stunning apartment in the heart of Edinburgh...</td>\n      <td>The apartment is in a Central Edinburgh neighb...</td>\n      <td>https://a0.muscache.com/pictures/monet/Select-...</td>\n      <td>3737047</td>\n      <td>...</td>\n      <td>4.96</td>\n      <td>4.96</td>\n      <td>4.86</td>\n      <td>NaN</td>\n      <td>t</td>\n      <td>1</td>\n      <td>1</td>\n      <td>0</td>\n      <td>0</td>\n      <td>1.73</td>\n    </tr>\n  </tbody>\n</table>\n<p>5 rows × 75 columns</p>\n</div>"
     },
     "execution_count": 187,
     "metadata": {},
     "output_type": "execute_result"
    }
   ],
   "source": [
    "# Read data\n",
    "dirty_listings_df = pd.read_csv('https://www.inf.ed.ac.uk/teaching/courses/fds/data/project-2022-2023/airbnb/listings.csv.gz')\n",
    "dirty_listings_df.head()"
   ],
   "metadata": {
    "collapsed": false,
    "pycharm": {
     "name": "#%%\n"
    }
   }
  },
  {
   "cell_type": "code",
   "execution_count": 188,
   "outputs": [
    {
     "data": {
      "text/plain": "   host_since              host_location  host_response_time  \\\n0  2009-12-06  Edinburgh, United Kingdom  within a few hours   \n1  2012-07-29  Edinburgh, United Kingdom        within a day   \n2  2012-10-06  Edinburgh, United Kingdom      within an hour   \n3  2012-10-09     London, United Kingdom      within an hour   \n4  2012-10-02  Edinburgh, United Kingdom      within an hour   \n\n  host_response_rate host_acceptance_rate host_is_superhost  \\\n0               100%                  96%                 t   \n1                50%                  84%                 f   \n2               100%                  95%                 t   \n3               100%                  99%                 f   \n4               100%                 100%                 t   \n\n  host_neighbourhood  host_listings_count  host_total_listings_count  \\\n0                NaN                    3                          6   \n1           Old Town                    9                         16   \n2                NaN                    1                          2   \n3          Haymarket                    6                          9   \n4           New Town                    1                          1   \n\n   host_verifications  ... review_scores_communication review_scores_location  \\\n0  ['email', 'phone']  ...                        4.98                   4.98   \n1  ['email', 'phone']  ...                        4.72                   4.94   \n2  ['email', 'phone']  ...                        4.97                   4.73   \n3  ['email', 'phone']  ...                        4.81                   4.71   \n4  ['email', 'phone']  ...                        4.96                   4.96   \n\n  review_scores_value  license instant_bookable  \\\n0                4.91      NaN                f   \n1                4.09      NaN                t   \n2                4.79      NaN                f   \n3                4.70      NaN                t   \n4                4.86      NaN                t   \n\n  calculated_host_listings_count  calculated_host_listings_count_entire_homes  \\\n0                              1                                            1   \n1                              8                                            6   \n2                              1                                            0   \n3                              2                                            2   \n4                              1                                            1   \n\n   calculated_host_listings_count_private_rooms  \\\n0                                             0   \n1                                             2   \n2                                             1   \n3                                             0   \n4                                             0   \n\n  calculated_host_listings_count_shared_rooms  reviews_per_month  \n0                                           0               3.10  \n1                                           0               0.55  \n2                                           0               2.86  \n3                                           0               2.27  \n4                                           0               1.73  \n\n[5 rows x 56 columns]",
      "text/html": "<div>\n<style scoped>\n    .dataframe tbody tr th:only-of-type {\n        vertical-align: middle;\n    }\n\n    .dataframe tbody tr th {\n        vertical-align: top;\n    }\n\n    .dataframe thead th {\n        text-align: right;\n    }\n</style>\n<table border=\"1\" class=\"dataframe\">\n  <thead>\n    <tr style=\"text-align: right;\">\n      <th></th>\n      <th>host_since</th>\n      <th>host_location</th>\n      <th>host_response_time</th>\n      <th>host_response_rate</th>\n      <th>host_acceptance_rate</th>\n      <th>host_is_superhost</th>\n      <th>host_neighbourhood</th>\n      <th>host_listings_count</th>\n      <th>host_total_listings_count</th>\n      <th>host_verifications</th>\n      <th>...</th>\n      <th>review_scores_communication</th>\n      <th>review_scores_location</th>\n      <th>review_scores_value</th>\n      <th>license</th>\n      <th>instant_bookable</th>\n      <th>calculated_host_listings_count</th>\n      <th>calculated_host_listings_count_entire_homes</th>\n      <th>calculated_host_listings_count_private_rooms</th>\n      <th>calculated_host_listings_count_shared_rooms</th>\n      <th>reviews_per_month</th>\n    </tr>\n  </thead>\n  <tbody>\n    <tr>\n      <th>0</th>\n      <td>2009-12-06</td>\n      <td>Edinburgh, United Kingdom</td>\n      <td>within a few hours</td>\n      <td>100%</td>\n      <td>96%</td>\n      <td>t</td>\n      <td>NaN</td>\n      <td>3</td>\n      <td>6</td>\n      <td>['email', 'phone']</td>\n      <td>...</td>\n      <td>4.98</td>\n      <td>4.98</td>\n      <td>4.91</td>\n      <td>NaN</td>\n      <td>f</td>\n      <td>1</td>\n      <td>1</td>\n      <td>0</td>\n      <td>0</td>\n      <td>3.10</td>\n    </tr>\n    <tr>\n      <th>1</th>\n      <td>2012-07-29</td>\n      <td>Edinburgh, United Kingdom</td>\n      <td>within a day</td>\n      <td>50%</td>\n      <td>84%</td>\n      <td>f</td>\n      <td>Old Town</td>\n      <td>9</td>\n      <td>16</td>\n      <td>['email', 'phone']</td>\n      <td>...</td>\n      <td>4.72</td>\n      <td>4.94</td>\n      <td>4.09</td>\n      <td>NaN</td>\n      <td>t</td>\n      <td>8</td>\n      <td>6</td>\n      <td>2</td>\n      <td>0</td>\n      <td>0.55</td>\n    </tr>\n    <tr>\n      <th>2</th>\n      <td>2012-10-06</td>\n      <td>Edinburgh, United Kingdom</td>\n      <td>within an hour</td>\n      <td>100%</td>\n      <td>95%</td>\n      <td>t</td>\n      <td>NaN</td>\n      <td>1</td>\n      <td>2</td>\n      <td>['email', 'phone']</td>\n      <td>...</td>\n      <td>4.97</td>\n      <td>4.73</td>\n      <td>4.79</td>\n      <td>NaN</td>\n      <td>f</td>\n      <td>1</td>\n      <td>0</td>\n      <td>1</td>\n      <td>0</td>\n      <td>2.86</td>\n    </tr>\n    <tr>\n      <th>3</th>\n      <td>2012-10-09</td>\n      <td>London, United Kingdom</td>\n      <td>within an hour</td>\n      <td>100%</td>\n      <td>99%</td>\n      <td>f</td>\n      <td>Haymarket</td>\n      <td>6</td>\n      <td>9</td>\n      <td>['email', 'phone']</td>\n      <td>...</td>\n      <td>4.81</td>\n      <td>4.71</td>\n      <td>4.70</td>\n      <td>NaN</td>\n      <td>t</td>\n      <td>2</td>\n      <td>2</td>\n      <td>0</td>\n      <td>0</td>\n      <td>2.27</td>\n    </tr>\n    <tr>\n      <th>4</th>\n      <td>2012-10-02</td>\n      <td>Edinburgh, United Kingdom</td>\n      <td>within an hour</td>\n      <td>100%</td>\n      <td>100%</td>\n      <td>t</td>\n      <td>New Town</td>\n      <td>1</td>\n      <td>1</td>\n      <td>['email', 'phone']</td>\n      <td>...</td>\n      <td>4.96</td>\n      <td>4.96</td>\n      <td>4.86</td>\n      <td>NaN</td>\n      <td>t</td>\n      <td>1</td>\n      <td>1</td>\n      <td>0</td>\n      <td>0</td>\n      <td>1.73</td>\n    </tr>\n  </tbody>\n</table>\n<p>5 rows × 56 columns</p>\n</div>"
     },
     "execution_count": 188,
     "metadata": {},
     "output_type": "execute_result"
    }
   ],
   "source": [
    "#Delete all meaningless columns, like links, ids, etc.\n",
    "listings_df = dirty_listings_df.drop([\"id\", \"listing_url\", \"scrape_id\", \"last_scraped\", \"source\" , \"picture_url\", \"host_id\", \"host_url\", \"host_thumbnail_url\", \"host_picture_url\", \"latitude\", \"longitude\", \"calendar_last_scraped\"], axis=1)\n",
    "\n",
    "#Neighbourhood is the same everywhere, so we can delete it\n",
    "listings_df = listings_df.drop([\"neighbourhood\"], axis=1)\n",
    "\n",
    "#Description, neighbourhood overview and host_about is a text, and we assume that name of the host is not relevant, so we can delete it.\n",
    "listings_df = listings_df.drop([\"description\", \"neighborhood_overview\", \"host_name\", \"host_about\"], axis=1)\n",
    "\n",
    "#The name of the property is not relevant, so we can delete it. We still have indexes to identify the property.\n",
    "listings_df = listings_df.drop([\"name\"], axis=1)\n",
    "\n",
    "\n",
    "listings_df.head()"
   ],
   "metadata": {
    "collapsed": false,
    "pycharm": {
     "name": "#%%\n"
    }
   }
  },
  {
   "cell_type": "code",
   "execution_count": 189,
   "outputs": [
    {
     "data": {
      "text/plain": "host_since                                         0\nhost_location                                   1322\nhost_acceptance_rate                             726\nhost_is_superhost                                  2\nhost_listings_count                                0\nhost_total_listings_count                          0\nhost_verifications                                 0\nhost_has_profile_pic                               0\nhost_identity_verified                             0\nneighbourhood_cleansed                             0\nproperty_type                                      0\nroom_type                                          0\naccommodates                                       0\nbathrooms_text                                    13\nbedrooms                                         138\nbeds                                             105\namenities                                          0\nprice                                              0\nminimum_nights                                     0\nmaximum_nights                                     0\nminimum_minimum_nights                             0\nmaximum_minimum_nights                             0\nminimum_maximum_nights                             0\nmaximum_maximum_nights                             0\nminimum_nights_avg_ntm                             0\nmaximum_nights_avg_ntm                             0\nhas_availability                                   0\navailability_30                                    0\navailability_60                                    0\navailability_90                                    0\navailability_365                                   0\nnumber_of_reviews                                  0\nnumber_of_reviews_ltm                              0\nnumber_of_reviews_l30d                             0\nfirst_review                                     665\nlast_review                                      665\nreview_scores_rating                             665\nreview_scores_accuracy                           678\nreview_scores_cleanliness                        678\nreview_scores_checkin                            678\nreview_scores_communication                      678\nreview_scores_location                           678\nreview_scores_value                              678\ninstant_bookable                                   0\ncalculated_host_listings_count                     0\ncalculated_host_listings_count_entire_homes        0\ncalculated_host_listings_count_private_rooms       0\ncalculated_host_listings_count_shared_rooms        0\nreviews_per_month                                665\ndtype: int64"
     },
     "execution_count": 189,
     "metadata": {},
     "output_type": "execute_result"
    }
   ],
   "source": [
    "#Delete all columns with more than 20% of missing values\n",
    "listings_df = listings_df.dropna(thresh=len(listings_df) * 0.8, axis=1)\n",
    "#Show the rest of missing values\n",
    "listings_df.isna().sum()"
   ],
   "metadata": {
    "collapsed": false,
    "pycharm": {
     "name": "#%%\n"
    }
   }
  },
  {
   "cell_type": "code",
   "execution_count": 190,
   "outputs": [
    {
     "data": {
      "text/plain": "host_since                                         0\nhost_location                                   1087\nhost_acceptance_rate                             584\nhost_is_superhost                                  1\nhost_listings_count                                0\nhost_total_listings_count                          0\nhost_verifications                                 0\nhost_has_profile_pic                               0\nhost_identity_verified                             0\nneighbourhood_cleansed                             0\nproperty_type                                      0\nroom_type                                          0\naccommodates                                       0\nbathrooms_text                                     8\nbedrooms                                         105\nbeds                                              60\namenities                                          0\nprice                                              0\nminimum_nights                                     0\nmaximum_nights                                     0\nminimum_minimum_nights                             0\nmaximum_minimum_nights                             0\nminimum_maximum_nights                             0\nmaximum_maximum_nights                             0\nminimum_nights_avg_ntm                             0\nmaximum_nights_avg_ntm                             0\nhas_availability                                   0\navailability_30                                    0\navailability_60                                    0\navailability_90                                    0\navailability_365                                   0\nnumber_of_reviews                                  0\nnumber_of_reviews_ltm                              0\nnumber_of_reviews_l30d                             0\nfirst_review                                       0\nlast_review                                        0\nreview_scores_rating                               0\nreview_scores_accuracy                             0\nreview_scores_cleanliness                          0\nreview_scores_checkin                              0\nreview_scores_communication                        0\nreview_scores_location                             0\nreview_scores_value                                0\ninstant_bookable                                   0\ncalculated_host_listings_count                     0\ncalculated_host_listings_count_entire_homes        0\ncalculated_host_listings_count_private_rooms       0\ncalculated_host_listings_count_shared_rooms        0\nreviews_per_month                                  0\ndtype: int64"
     },
     "execution_count": 190,
     "metadata": {},
     "output_type": "execute_result"
    }
   ],
   "source": [
    "#Delete all rows where reviews are missing, because that is the variable we want to predict\n",
    "listings_df = listings_df.dropna(subset=[\"review_scores_rating\", \"review_scores_accuracy\", \"review_scores_cleanliness\", \"review_scores_checkin\", \"review_scores_communication\", \"review_scores_location\", \"review_scores_value\"])\n",
    "listings_df.isna().sum()"
   ],
   "metadata": {
    "collapsed": false,
    "pycharm": {
     "name": "#%%\n"
    }
   }
  },
  {
   "cell_type": "code",
   "execution_count": 191,
   "outputs": [
    {
     "name": "stdout",
     "output_type": "stream",
     "text": [
      "<class 'pandas.core.frame.DataFrame'>\n",
      "Int64Index: 6711 entries, 0 to 7388\n",
      "Data columns (total 49 columns):\n",
      " #   Column                                        Non-Null Count  Dtype         \n",
      "---  ------                                        --------------  -----         \n",
      " 0   host_since                                    6711 non-null   datetime64[ns]\n",
      " 1   host_location                                 5624 non-null   object        \n",
      " 2   host_acceptance_rate                          6127 non-null   object        \n",
      " 3   host_is_superhost                             6710 non-null   object        \n",
      " 4   host_listings_count                           6711 non-null   int64         \n",
      " 5   host_total_listings_count                     6711 non-null   int64         \n",
      " 6   host_verifications                            6711 non-null   object        \n",
      " 7   host_has_profile_pic                          6711 non-null   object        \n",
      " 8   host_identity_verified                        6711 non-null   object        \n",
      " 9   neighbourhood_cleansed                        6711 non-null   object        \n",
      " 10  property_type                                 6711 non-null   object        \n",
      " 11  room_type                                     6711 non-null   object        \n",
      " 12  accommodates                                  6711 non-null   int64         \n",
      " 13  bathrooms_text                                6703 non-null   object        \n",
      " 14  bedrooms                                      6606 non-null   float64       \n",
      " 15  beds                                          6651 non-null   float64       \n",
      " 16  amenities                                     6711 non-null   object        \n",
      " 17  price                                         6711 non-null   object        \n",
      " 18  minimum_nights                                6711 non-null   int64         \n",
      " 19  maximum_nights                                6711 non-null   int64         \n",
      " 20  minimum_minimum_nights                        6711 non-null   int64         \n",
      " 21  maximum_minimum_nights                        6711 non-null   int64         \n",
      " 22  minimum_maximum_nights                        6711 non-null   int64         \n",
      " 23  maximum_maximum_nights                        6711 non-null   int64         \n",
      " 24  minimum_nights_avg_ntm                        6711 non-null   float64       \n",
      " 25  maximum_nights_avg_ntm                        6711 non-null   float64       \n",
      " 26  has_availability                              6711 non-null   object        \n",
      " 27  availability_30                               6711 non-null   int64         \n",
      " 28  availability_60                               6711 non-null   int64         \n",
      " 29  availability_90                               6711 non-null   int64         \n",
      " 30  availability_365                              6711 non-null   int64         \n",
      " 31  number_of_reviews                             6711 non-null   int64         \n",
      " 32  number_of_reviews_ltm                         6711 non-null   int64         \n",
      " 33  number_of_reviews_l30d                        6711 non-null   int64         \n",
      " 34  first_review                                  6711 non-null   datetime64[ns]\n",
      " 35  last_review                                   6711 non-null   datetime64[ns]\n",
      " 36  review_scores_rating                          6711 non-null   float64       \n",
      " 37  review_scores_accuracy                        6711 non-null   float64       \n",
      " 38  review_scores_cleanliness                     6711 non-null   float64       \n",
      " 39  review_scores_checkin                         6711 non-null   float64       \n",
      " 40  review_scores_communication                   6711 non-null   float64       \n",
      " 41  review_scores_location                        6711 non-null   float64       \n",
      " 42  review_scores_value                           6711 non-null   float64       \n",
      " 43  instant_bookable                              6711 non-null   object        \n",
      " 44  calculated_host_listings_count                6711 non-null   int64         \n",
      " 45  calculated_host_listings_count_entire_homes   6711 non-null   int64         \n",
      " 46  calculated_host_listings_count_private_rooms  6711 non-null   int64         \n",
      " 47  calculated_host_listings_count_shared_rooms   6711 non-null   int64         \n",
      " 48  reviews_per_month                             6711 non-null   float64       \n",
      "dtypes: datetime64[ns](3), float64(12), int64(20), object(14)\n",
      "memory usage: 2.6+ MB\n"
     ]
    }
   ],
   "source": [
    "#Convert all dates to datetime\n",
    "listings_df[\"host_since\"] = pd.to_datetime(listings_df[\"host_since\"])\n",
    "listings_df[\"first_review\"] = pd.to_datetime(listings_df[\"first_review\"])\n",
    "listings_df[\"last_review\"] = pd.to_datetime(listings_df[\"last_review\"])\n",
    "listings_df.info()"
   ],
   "metadata": {
    "collapsed": false,
    "pycharm": {
     "name": "#%%\n"
    }
   }
  },
  {
   "cell_type": "code",
   "execution_count": 192,
   "outputs": [
    {
     "data": {
      "text/plain": "host_since                                      0\nhost_location                                   0\nhost_acceptance_rate                            0\nhost_is_superhost                               0\nhost_listings_count                             0\nhost_total_listings_count                       0\nhost_verifications                              0\nhost_has_profile_pic                            0\nhost_identity_verified                          0\nneighbourhood_cleansed                          0\nproperty_type                                   0\nroom_type                                       0\naccommodates                                    0\nbathrooms_text                                  0\nbedrooms                                        0\nbeds                                            0\namenities                                       0\nprice                                           0\nminimum_nights                                  0\nmaximum_nights                                  0\nminimum_minimum_nights                          0\nmaximum_minimum_nights                          0\nminimum_maximum_nights                          0\nmaximum_maximum_nights                          0\nminimum_nights_avg_ntm                          0\nmaximum_nights_avg_ntm                          0\nhas_availability                                0\navailability_30                                 0\navailability_60                                 0\navailability_90                                 0\navailability_365                                0\nnumber_of_reviews                               0\nnumber_of_reviews_ltm                           0\nnumber_of_reviews_l30d                          0\nfirst_review                                    0\nlast_review                                     0\nreview_scores_rating                            0\nreview_scores_accuracy                          0\nreview_scores_cleanliness                       0\nreview_scores_checkin                           0\nreview_scores_communication                     0\nreview_scores_location                          0\nreview_scores_value                             0\ninstant_bookable                                0\ncalculated_host_listings_count                  0\ncalculated_host_listings_count_entire_homes     0\ncalculated_host_listings_count_private_rooms    0\ncalculated_host_listings_count_shared_rooms     0\nreviews_per_month                               0\ndtype: int64"
     },
     "execution_count": 192,
     "metadata": {},
     "output_type": "execute_result"
    }
   ],
   "source": [
    "#Replace all missing values in the columns of type date with the average of the dates, and last review as well\n",
    "listings_df[\"host_since\"] = listings_df[\"host_since\"].fillna(listings_df[\"host_since\"].mean())\n",
    "listings_df[\"first_review\"] = listings_df[\"first_review\"].fillna(listings_df[\"first_review\"].mean())\n",
    "listings_df[\"last_review\"] = listings_df[\"last_review\"].fillna(listings_df[\"last_review\"].mean())\n",
    "\n",
    "#Replace all the rest of missing values with the most frequent value in the column\n",
    "listings_df = listings_df.fillna(listings_df.mode().iloc[0])\n",
    "\n",
    "listings_df.isna().sum()"
   ],
   "metadata": {
    "collapsed": false,
    "pycharm": {
     "name": "#%%\n"
    }
   }
  },
  {
   "cell_type": "code",
   "execution_count": 193,
   "outputs": [
    {
     "name": "stderr",
     "output_type": "stream",
     "text": [
      "/var/folders/rl/vtn0nzqd2mv0t2hrn6m_74540000gn/T/ipykernel_52105/3647658093.py:7: FutureWarning: The default value of regex will change from True to False in a future version. In addition, single character regular expressions will *not* be treated as literal strings when regex=True.\n",
      "  listings_df[\"price\"] = listings_df[\"price\"].str.replace('$', '').str.replace(',', '').astype('float')\n",
      "/var/folders/rl/vtn0nzqd2mv0t2hrn6m_74540000gn/T/ipykernel_52105/3647658093.py:13: FutureWarning: The default value of regex will change from True to False in a future version. In addition, single character regular expressions will *not* be treated as literal strings when regex=True.\n",
      "  listings_df[\"host_verifications\"] = listings_df[\"host_verifications\"].str.replace('[', '').str.replace(']', '').str.replace(\"'\", '')\n"
     ]
    },
    {
     "data": {
      "text/plain": "  host_since              host_location  host_acceptance_rate  \\\n0 2009-12-06  Edinburgh, United Kingdom                  0.96   \n1 2012-07-29  Edinburgh, United Kingdom                  0.84   \n2 2012-10-06  Edinburgh, United Kingdom                  0.95   \n3 2012-10-09     London, United Kingdom                  0.99   \n4 2012-10-02  Edinburgh, United Kingdom                  1.00   \n\n   host_is_superhost  host_listings_count  host_total_listings_count  \\\n0               True                    3                          6   \n1              False                    9                         16   \n2               True                    1                          2   \n3              False                    6                          9   \n4               True                    1                          1   \n\n  host_verifications  host_has_profile_pic  host_identity_verified  \\\n0       email, phone                  True                    True   \n1       email, phone                  True                    True   \n2       email, phone                  True                    True   \n3       email, phone                  True                    True   \n4       email, phone                  True                    True   \n\n                      neighbourhood_cleansed  ... review_scores_checkin  \\\n0  Old Town, Princes Street and Leith Street  ...                  4.97   \n1  Old Town, Princes Street and Leith Street  ...                  4.69   \n2                                   Polwarth  ...                  4.95   \n3                   Dalry and Fountainbridge  ...                  4.84   \n4                              Deans Village  ...                  4.93   \n\n  review_scores_communication  review_scores_location review_scores_value  \\\n0                        4.98                    4.98                4.91   \n1                        4.72                    4.94                4.09   \n2                        4.97                    4.73                4.79   \n3                        4.81                    4.71                4.70   \n4                        4.96                    4.96                4.86   \n\n   instant_bookable  calculated_host_listings_count  \\\n0             False                               1   \n1              True                               8   \n2             False                               1   \n3              True                               2   \n4              True                               1   \n\n  calculated_host_listings_count_entire_homes  \\\n0                                           1   \n1                                           6   \n2                                           0   \n3                                           2   \n4                                           1   \n\n   calculated_host_listings_count_private_rooms  \\\n0                                             0   \n1                                             2   \n2                                             1   \n3                                             0   \n4                                             0   \n\n   calculated_host_listings_count_shared_rooms  reviews_per_month  \n0                                            0               3.10  \n1                                            0               0.55  \n2                                            0               2.86  \n3                                            0               2.27  \n4                                            0               1.73  \n\n[5 rows x 49 columns]",
      "text/html": "<div>\n<style scoped>\n    .dataframe tbody tr th:only-of-type {\n        vertical-align: middle;\n    }\n\n    .dataframe tbody tr th {\n        vertical-align: top;\n    }\n\n    .dataframe thead th {\n        text-align: right;\n    }\n</style>\n<table border=\"1\" class=\"dataframe\">\n  <thead>\n    <tr style=\"text-align: right;\">\n      <th></th>\n      <th>host_since</th>\n      <th>host_location</th>\n      <th>host_acceptance_rate</th>\n      <th>host_is_superhost</th>\n      <th>host_listings_count</th>\n      <th>host_total_listings_count</th>\n      <th>host_verifications</th>\n      <th>host_has_profile_pic</th>\n      <th>host_identity_verified</th>\n      <th>neighbourhood_cleansed</th>\n      <th>...</th>\n      <th>review_scores_checkin</th>\n      <th>review_scores_communication</th>\n      <th>review_scores_location</th>\n      <th>review_scores_value</th>\n      <th>instant_bookable</th>\n      <th>calculated_host_listings_count</th>\n      <th>calculated_host_listings_count_entire_homes</th>\n      <th>calculated_host_listings_count_private_rooms</th>\n      <th>calculated_host_listings_count_shared_rooms</th>\n      <th>reviews_per_month</th>\n    </tr>\n  </thead>\n  <tbody>\n    <tr>\n      <th>0</th>\n      <td>2009-12-06</td>\n      <td>Edinburgh, United Kingdom</td>\n      <td>0.96</td>\n      <td>True</td>\n      <td>3</td>\n      <td>6</td>\n      <td>email, phone</td>\n      <td>True</td>\n      <td>True</td>\n      <td>Old Town, Princes Street and Leith Street</td>\n      <td>...</td>\n      <td>4.97</td>\n      <td>4.98</td>\n      <td>4.98</td>\n      <td>4.91</td>\n      <td>False</td>\n      <td>1</td>\n      <td>1</td>\n      <td>0</td>\n      <td>0</td>\n      <td>3.10</td>\n    </tr>\n    <tr>\n      <th>1</th>\n      <td>2012-07-29</td>\n      <td>Edinburgh, United Kingdom</td>\n      <td>0.84</td>\n      <td>False</td>\n      <td>9</td>\n      <td>16</td>\n      <td>email, phone</td>\n      <td>True</td>\n      <td>True</td>\n      <td>Old Town, Princes Street and Leith Street</td>\n      <td>...</td>\n      <td>4.69</td>\n      <td>4.72</td>\n      <td>4.94</td>\n      <td>4.09</td>\n      <td>True</td>\n      <td>8</td>\n      <td>6</td>\n      <td>2</td>\n      <td>0</td>\n      <td>0.55</td>\n    </tr>\n    <tr>\n      <th>2</th>\n      <td>2012-10-06</td>\n      <td>Edinburgh, United Kingdom</td>\n      <td>0.95</td>\n      <td>True</td>\n      <td>1</td>\n      <td>2</td>\n      <td>email, phone</td>\n      <td>True</td>\n      <td>True</td>\n      <td>Polwarth</td>\n      <td>...</td>\n      <td>4.95</td>\n      <td>4.97</td>\n      <td>4.73</td>\n      <td>4.79</td>\n      <td>False</td>\n      <td>1</td>\n      <td>0</td>\n      <td>1</td>\n      <td>0</td>\n      <td>2.86</td>\n    </tr>\n    <tr>\n      <th>3</th>\n      <td>2012-10-09</td>\n      <td>London, United Kingdom</td>\n      <td>0.99</td>\n      <td>False</td>\n      <td>6</td>\n      <td>9</td>\n      <td>email, phone</td>\n      <td>True</td>\n      <td>True</td>\n      <td>Dalry and Fountainbridge</td>\n      <td>...</td>\n      <td>4.84</td>\n      <td>4.81</td>\n      <td>4.71</td>\n      <td>4.70</td>\n      <td>True</td>\n      <td>2</td>\n      <td>2</td>\n      <td>0</td>\n      <td>0</td>\n      <td>2.27</td>\n    </tr>\n    <tr>\n      <th>4</th>\n      <td>2012-10-02</td>\n      <td>Edinburgh, United Kingdom</td>\n      <td>1.00</td>\n      <td>True</td>\n      <td>1</td>\n      <td>1</td>\n      <td>email, phone</td>\n      <td>True</td>\n      <td>True</td>\n      <td>Deans Village</td>\n      <td>...</td>\n      <td>4.93</td>\n      <td>4.96</td>\n      <td>4.96</td>\n      <td>4.86</td>\n      <td>True</td>\n      <td>1</td>\n      <td>1</td>\n      <td>0</td>\n      <td>0</td>\n      <td>1.73</td>\n    </tr>\n  </tbody>\n</table>\n<p>5 rows × 49 columns</p>\n</div>"
     },
     "execution_count": 193,
     "metadata": {},
     "output_type": "execute_result"
    }
   ],
   "source": [
    "#Convert t and f to True and False\n",
    "listings_df = listings_df.replace({\"t\": True, \"f\": False})\n",
    "\n",
    "#Convert all percentages to float\n",
    "listings_df[\"host_acceptance_rate\"] = listings_df[\"host_acceptance_rate\"].str.replace('%', '').astype('float') / 100.0\n",
    "#Convert all prices to float\n",
    "listings_df[\"price\"] = listings_df[\"price\"].str.replace('$', '').str.replace(',', '').astype('float')\n",
    "#Convert number of beds and bedrooms to int\n",
    "listings_df[\"beds\"] = listings_df[\"beds\"].astype('int')\n",
    "listings_df[\"bedrooms\"] = listings_df[\"bedrooms\"].astype('int')\n",
    "\n",
    "#Convert string representation of a list to string of comma-separated values\n",
    "listings_df[\"host_verifications\"] = listings_df[\"host_verifications\"].str.replace('[', '').str.replace(']', '').str.replace(\"'\", '')\n",
    "\n",
    "\n",
    "listings_df.head()\n"
   ],
   "metadata": {
    "collapsed": false,
    "pycharm": {
     "name": "#%%\n"
    }
   }
  },
  {
   "cell_type": "code",
   "execution_count": 194,
   "outputs": [
    {
     "data": {
      "text/plain": "1 bath              3307\n1 shared bath        997\n2 baths              938\n1.5 baths            486\n1 private bath       452\n1.5 shared baths     175\n3 baths              107\n2.5 baths             83\n2 shared baths        51\n3.5 baths             24\n4 baths               21\n0 baths               15\n2.5 shared baths      13\n5 baths                7\nShared half-bath       7\nHalf-bath              7\n0 shared baths         6\n5.5 baths              4\n3 shared baths         2\n6 baths                2\n4.5 baths              2\n6.5 baths              1\n3.5 shared baths       1\n7 baths                1\n9 baths                1\n9 shared baths         1\nName: bathrooms_text, dtype: int64"
     },
     "execution_count": 194,
     "metadata": {},
     "output_type": "execute_result"
    }
   ],
   "source": [
    "listings_df[\"bathrooms_text\"].value_counts()"
   ],
   "metadata": {
    "collapsed": false,
    "pycharm": {
     "name": "#%%\n"
    }
   }
  },
  {
   "cell_type": "code",
   "execution_count": 195,
   "outputs": [
    {
     "data": {
      "text/plain": "  host_since              host_location  host_acceptance_rate  \\\n0 2009-12-06  Edinburgh, United Kingdom                  0.96   \n1 2012-07-29  Edinburgh, United Kingdom                  0.84   \n2 2012-10-06  Edinburgh, United Kingdom                  0.95   \n3 2012-10-09     London, United Kingdom                  0.99   \n4 2012-10-02  Edinburgh, United Kingdom                  1.00   \n\n   host_is_superhost  host_listings_count  host_total_listings_count  \\\n0               True                    3                          6   \n1              False                    9                         16   \n2               True                    1                          2   \n3              False                    6                          9   \n4               True                    1                          1   \n\n  host_verifications  host_has_profile_pic  host_identity_verified  \\\n0       email, phone                  True                    True   \n1       email, phone                  True                    True   \n2       email, phone                  True                    True   \n3       email, phone                  True                    True   \n4       email, phone                  True                    True   \n\n                      neighbourhood_cleansed  ... review_scores_checkin  \\\n0  Old Town, Princes Street and Leith Street  ...                  4.97   \n1  Old Town, Princes Street and Leith Street  ...                  4.69   \n2                                   Polwarth  ...                  4.95   \n3                   Dalry and Fountainbridge  ...                  4.84   \n4                              Deans Village  ...                  4.93   \n\n  review_scores_communication  review_scores_location  review_scores_value  \\\n0                        4.98                    4.98                 4.91   \n1                        4.72                    4.94                 4.09   \n2                        4.97                    4.73                 4.79   \n3                        4.81                    4.71                 4.70   \n4                        4.96                    4.96                 4.86   \n\n   instant_bookable  calculated_host_listings_count  \\\n0             False                               1   \n1              True                               8   \n2             False                               1   \n3              True                               2   \n4              True                               1   \n\n   calculated_host_listings_count_entire_homes  \\\n0                                            1   \n1                                            6   \n2                                            0   \n3                                            2   \n4                                            1   \n\n  calculated_host_listings_count_private_rooms  \\\n0                                            0   \n1                                            2   \n2                                            1   \n3                                            0   \n4                                            0   \n\n   calculated_host_listings_count_shared_rooms  reviews_per_month  \n0                                            0               3.10  \n1                                            0               0.55  \n2                                            0               2.86  \n3                                            0               2.27  \n4                                            0               1.73  \n\n[5 rows x 50 columns]",
      "text/html": "<div>\n<style scoped>\n    .dataframe tbody tr th:only-of-type {\n        vertical-align: middle;\n    }\n\n    .dataframe tbody tr th {\n        vertical-align: top;\n    }\n\n    .dataframe thead th {\n        text-align: right;\n    }\n</style>\n<table border=\"1\" class=\"dataframe\">\n  <thead>\n    <tr style=\"text-align: right;\">\n      <th></th>\n      <th>host_since</th>\n      <th>host_location</th>\n      <th>host_acceptance_rate</th>\n      <th>host_is_superhost</th>\n      <th>host_listings_count</th>\n      <th>host_total_listings_count</th>\n      <th>host_verifications</th>\n      <th>host_has_profile_pic</th>\n      <th>host_identity_verified</th>\n      <th>neighbourhood_cleansed</th>\n      <th>...</th>\n      <th>review_scores_checkin</th>\n      <th>review_scores_communication</th>\n      <th>review_scores_location</th>\n      <th>review_scores_value</th>\n      <th>instant_bookable</th>\n      <th>calculated_host_listings_count</th>\n      <th>calculated_host_listings_count_entire_homes</th>\n      <th>calculated_host_listings_count_private_rooms</th>\n      <th>calculated_host_listings_count_shared_rooms</th>\n      <th>reviews_per_month</th>\n    </tr>\n  </thead>\n  <tbody>\n    <tr>\n      <th>0</th>\n      <td>2009-12-06</td>\n      <td>Edinburgh, United Kingdom</td>\n      <td>0.96</td>\n      <td>True</td>\n      <td>3</td>\n      <td>6</td>\n      <td>email, phone</td>\n      <td>True</td>\n      <td>True</td>\n      <td>Old Town, Princes Street and Leith Street</td>\n      <td>...</td>\n      <td>4.97</td>\n      <td>4.98</td>\n      <td>4.98</td>\n      <td>4.91</td>\n      <td>False</td>\n      <td>1</td>\n      <td>1</td>\n      <td>0</td>\n      <td>0</td>\n      <td>3.10</td>\n    </tr>\n    <tr>\n      <th>1</th>\n      <td>2012-07-29</td>\n      <td>Edinburgh, United Kingdom</td>\n      <td>0.84</td>\n      <td>False</td>\n      <td>9</td>\n      <td>16</td>\n      <td>email, phone</td>\n      <td>True</td>\n      <td>True</td>\n      <td>Old Town, Princes Street and Leith Street</td>\n      <td>...</td>\n      <td>4.69</td>\n      <td>4.72</td>\n      <td>4.94</td>\n      <td>4.09</td>\n      <td>True</td>\n      <td>8</td>\n      <td>6</td>\n      <td>2</td>\n      <td>0</td>\n      <td>0.55</td>\n    </tr>\n    <tr>\n      <th>2</th>\n      <td>2012-10-06</td>\n      <td>Edinburgh, United Kingdom</td>\n      <td>0.95</td>\n      <td>True</td>\n      <td>1</td>\n      <td>2</td>\n      <td>email, phone</td>\n      <td>True</td>\n      <td>True</td>\n      <td>Polwarth</td>\n      <td>...</td>\n      <td>4.95</td>\n      <td>4.97</td>\n      <td>4.73</td>\n      <td>4.79</td>\n      <td>False</td>\n      <td>1</td>\n      <td>0</td>\n      <td>1</td>\n      <td>0</td>\n      <td>2.86</td>\n    </tr>\n    <tr>\n      <th>3</th>\n      <td>2012-10-09</td>\n      <td>London, United Kingdom</td>\n      <td>0.99</td>\n      <td>False</td>\n      <td>6</td>\n      <td>9</td>\n      <td>email, phone</td>\n      <td>True</td>\n      <td>True</td>\n      <td>Dalry and Fountainbridge</td>\n      <td>...</td>\n      <td>4.84</td>\n      <td>4.81</td>\n      <td>4.71</td>\n      <td>4.70</td>\n      <td>True</td>\n      <td>2</td>\n      <td>2</td>\n      <td>0</td>\n      <td>0</td>\n      <td>2.27</td>\n    </tr>\n    <tr>\n      <th>4</th>\n      <td>2012-10-02</td>\n      <td>Edinburgh, United Kingdom</td>\n      <td>1.00</td>\n      <td>True</td>\n      <td>1</td>\n      <td>1</td>\n      <td>email, phone</td>\n      <td>True</td>\n      <td>True</td>\n      <td>Deans Village</td>\n      <td>...</td>\n      <td>4.93</td>\n      <td>4.96</td>\n      <td>4.96</td>\n      <td>4.86</td>\n      <td>True</td>\n      <td>1</td>\n      <td>1</td>\n      <td>0</td>\n      <td>0</td>\n      <td>1.73</td>\n    </tr>\n  </tbody>\n</table>\n<p>5 rows × 50 columns</p>\n</div>"
     },
     "execution_count": 195,
     "metadata": {},
     "output_type": "execute_result"
    }
   ],
   "source": [
    "\n",
    "#Create a column indicating whether a bathroom is shared or private\n",
    "listings_df.insert(14, \"shared_bathroom\",listings_df[\"bathrooms_text\"].str.contains(\"shared\"))\n",
    "\n",
    "#Convert bathrooms_text to float\n",
    "pattern = re.compile(r'\\d+')\n",
    "#If no number is found, assume 1 bathroom\n",
    "listings_df[\"bathrooms_text\"] = listings_df[\"bathrooms_text\"].apply(lambda x: int(pattern.search(x).group()) if pattern.search(x) else 1)\n",
    "listings_df.rename(columns={\"bathrooms_text\": \"bathrooms\"}, inplace=True)\n",
    "\n",
    "\n",
    "\n",
    "\n",
    "listings_df.head()"
   ],
   "metadata": {
    "collapsed": false,
    "pycharm": {
     "name": "#%%\n"
    }
   }
  },
  {
   "cell_type": "code",
   "execution_count": 196,
   "outputs": [],
   "source": [
    "#Temporary\n",
    "#listings_df[\"amenities\"] = listings_df[\"amenities\"].str.replace('[', '').str.replace(']', '').str.replace('\"', '')\n",
    "#amenities_expanded = listings_df['amenities'].str.get_dummies(sep=', ')\n",
    "listings_df = listings_df.drop([\"amenities\"], axis=1)\n"
   ],
   "metadata": {
    "collapsed": false,
    "pycharm": {
     "name": "#%%\n"
    }
   }
  },
  {
   "cell_type": "code",
   "execution_count": 197,
   "outputs": [
    {
     "data": {
      "text/plain": "  host_since              host_location  host_acceptance_rate  \\\n0 2009-12-06  Edinburgh, United Kingdom                  0.96   \n1 2012-07-29  Edinburgh, United Kingdom                  0.84   \n2 2012-10-06  Edinburgh, United Kingdom                  0.95   \n3 2012-10-09     London, United Kingdom                  0.99   \n4 2012-10-02  Edinburgh, United Kingdom                  1.00   \n\n   host_is_superhost  host_listings_count  host_total_listings_count  \\\n0               True                    3                          6   \n1              False                    9                         16   \n2               True                    1                          2   \n3              False                    6                          9   \n4               True                    1                          1   \n\n  host_verifications  host_has_profile_pic  host_identity_verified  \\\n0       email, phone                  True                    True   \n1       email, phone                  True                    True   \n2       email, phone                  True                    True   \n3       email, phone                  True                    True   \n4       email, phone                  True                    True   \n\n                      neighbourhood_cleansed  ... Room in serviced apartment  \\\n0  Old Town, Princes Street and Leith Street  ...                          0   \n1  Old Town, Princes Street and Leith Street  ...                          0   \n2                                   Polwarth  ...                          0   \n3                   Dalry and Fountainbridge  ...                          0   \n4                              Deans Village  ...                          0   \n\n  Shared room in condo  Shared room in hostel  Shared room in vacation home  \\\n0                    0                      0                             0   \n1                    0                      0                             0   \n2                    0                      0                             0   \n3                    0                      0                             0   \n4                    0                      0                             0   \n\n   Tiny home  Windmill  Entire home/apt  Hotel room  Private room  Shared room  \n0          0         0                1           0             0            0  \n1          0         0                1           0             0            0  \n2          0         0                0           0             1            0  \n3          0         0                1           0             0            0  \n4          0         0                1           0             0            0  \n\n[5 rows x 476 columns]",
      "text/html": "<div>\n<style scoped>\n    .dataframe tbody tr th:only-of-type {\n        vertical-align: middle;\n    }\n\n    .dataframe tbody tr th {\n        vertical-align: top;\n    }\n\n    .dataframe thead th {\n        text-align: right;\n    }\n</style>\n<table border=\"1\" class=\"dataframe\">\n  <thead>\n    <tr style=\"text-align: right;\">\n      <th></th>\n      <th>host_since</th>\n      <th>host_location</th>\n      <th>host_acceptance_rate</th>\n      <th>host_is_superhost</th>\n      <th>host_listings_count</th>\n      <th>host_total_listings_count</th>\n      <th>host_verifications</th>\n      <th>host_has_profile_pic</th>\n      <th>host_identity_verified</th>\n      <th>neighbourhood_cleansed</th>\n      <th>...</th>\n      <th>Room in serviced apartment</th>\n      <th>Shared room in condo</th>\n      <th>Shared room in hostel</th>\n      <th>Shared room in vacation home</th>\n      <th>Tiny home</th>\n      <th>Windmill</th>\n      <th>Entire home/apt</th>\n      <th>Hotel room</th>\n      <th>Private room</th>\n      <th>Shared room</th>\n    </tr>\n  </thead>\n  <tbody>\n    <tr>\n      <th>0</th>\n      <td>2009-12-06</td>\n      <td>Edinburgh, United Kingdom</td>\n      <td>0.96</td>\n      <td>True</td>\n      <td>3</td>\n      <td>6</td>\n      <td>email, phone</td>\n      <td>True</td>\n      <td>True</td>\n      <td>Old Town, Princes Street and Leith Street</td>\n      <td>...</td>\n      <td>0</td>\n      <td>0</td>\n      <td>0</td>\n      <td>0</td>\n      <td>0</td>\n      <td>0</td>\n      <td>1</td>\n      <td>0</td>\n      <td>0</td>\n      <td>0</td>\n    </tr>\n    <tr>\n      <th>1</th>\n      <td>2012-07-29</td>\n      <td>Edinburgh, United Kingdom</td>\n      <td>0.84</td>\n      <td>False</td>\n      <td>9</td>\n      <td>16</td>\n      <td>email, phone</td>\n      <td>True</td>\n      <td>True</td>\n      <td>Old Town, Princes Street and Leith Street</td>\n      <td>...</td>\n      <td>0</td>\n      <td>0</td>\n      <td>0</td>\n      <td>0</td>\n      <td>0</td>\n      <td>0</td>\n      <td>1</td>\n      <td>0</td>\n      <td>0</td>\n      <td>0</td>\n    </tr>\n    <tr>\n      <th>2</th>\n      <td>2012-10-06</td>\n      <td>Edinburgh, United Kingdom</td>\n      <td>0.95</td>\n      <td>True</td>\n      <td>1</td>\n      <td>2</td>\n      <td>email, phone</td>\n      <td>True</td>\n      <td>True</td>\n      <td>Polwarth</td>\n      <td>...</td>\n      <td>0</td>\n      <td>0</td>\n      <td>0</td>\n      <td>0</td>\n      <td>0</td>\n      <td>0</td>\n      <td>0</td>\n      <td>0</td>\n      <td>1</td>\n      <td>0</td>\n    </tr>\n    <tr>\n      <th>3</th>\n      <td>2012-10-09</td>\n      <td>London, United Kingdom</td>\n      <td>0.99</td>\n      <td>False</td>\n      <td>6</td>\n      <td>9</td>\n      <td>email, phone</td>\n      <td>True</td>\n      <td>True</td>\n      <td>Dalry and Fountainbridge</td>\n      <td>...</td>\n      <td>0</td>\n      <td>0</td>\n      <td>0</td>\n      <td>0</td>\n      <td>0</td>\n      <td>0</td>\n      <td>1</td>\n      <td>0</td>\n      <td>0</td>\n      <td>0</td>\n    </tr>\n    <tr>\n      <th>4</th>\n      <td>2012-10-02</td>\n      <td>Edinburgh, United Kingdom</td>\n      <td>1.00</td>\n      <td>True</td>\n      <td>1</td>\n      <td>1</td>\n      <td>email, phone</td>\n      <td>True</td>\n      <td>True</td>\n      <td>Deans Village</td>\n      <td>...</td>\n      <td>0</td>\n      <td>0</td>\n      <td>0</td>\n      <td>0</td>\n      <td>0</td>\n      <td>0</td>\n      <td>1</td>\n      <td>0</td>\n      <td>0</td>\n      <td>0</td>\n    </tr>\n  </tbody>\n</table>\n<p>5 rows × 476 columns</p>\n</div>"
     },
     "execution_count": 197,
     "metadata": {},
     "output_type": "execute_result"
    }
   ],
   "source": [
    "host_verifications_expanded = listings_df['host_verifications'].str.get_dummies(sep=', ')\n",
    "host_locations_expanded = listings_df['host_location'].str.get_dummies()\n",
    "neighborhood_expanded = listings_df['neighbourhood_cleansed'].str.get_dummies()\n",
    "property_type_expanded = listings_df['property_type'].str.get_dummies()\n",
    "room_type_expanded = listings_df['room_type'].str.get_dummies()\n",
    "\n",
    "\n",
    "# join the dummy variable columns with the original dataframe\n",
    "listings_df = pd.concat([listings_df, host_verifications_expanded, host_locations_expanded, neighborhood_expanded, property_type_expanded, room_type_expanded], axis=1)\n",
    "listings_df.head()"
   ],
   "metadata": {
    "collapsed": false,
    "pycharm": {
     "name": "#%%\n"
    }
   }
  },
  {
   "cell_type": "code",
   "execution_count": 197,
   "outputs": [],
   "source": [],
   "metadata": {
    "collapsed": false,
    "pycharm": {
     "name": "#%%\n"
    }
   }
  },
  {
   "cell_type": "code",
   "execution_count": 197,
   "outputs": [],
   "source": [],
   "metadata": {
    "collapsed": false,
    "pycharm": {
     "name": "#%%\n"
    }
   }
  }
 ],
 "metadata": {
  "kernelspec": {
   "display_name": "Python 3",
   "language": "python",
   "name": "python3"
  },
  "language_info": {
   "codemirror_mode": {
    "name": "ipython",
    "version": 2
   },
   "file_extension": ".py",
   "mimetype": "text/x-python",
   "name": "python",
   "nbconvert_exporter": "python",
   "pygments_lexer": "ipython2",
   "version": "2.7.6"
  }
 },
 "nbformat": 4,
 "nbformat_minor": 0
}