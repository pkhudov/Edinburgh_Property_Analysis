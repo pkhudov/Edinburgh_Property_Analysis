{
 "cells": [
  {
   "cell_type": "markdown",
   "source": [
    "# What makes a movie successful?\n",
    "#### Author: Pavel Khudov"
   ],
   "metadata": {
    "collapsed": false,
    "pycharm": {
     "name": "#%% md\n"
    }
   }
  },
  {
   "cell_type": "markdown",
   "source": [
    "Import necessary libraries:"
   ],
   "metadata": {
    "collapsed": false,
    "pycharm": {
     "name": "#%% md\n"
    }
   }
  },
  {
   "cell_type": "code",
   "execution_count": 7,
   "outputs": [],
   "source": [
    "import os\n",
    "import pandas as pd\n",
    "import numpy as np"
   ],
   "metadata": {
    "collapsed": false,
    "pycharm": {
     "name": "#%%\n"
    }
   }
  },
  {
   "cell_type": "markdown",
   "source": [
    "Import and visualise the data from CSV file:"
   ],
   "metadata": {
    "collapsed": false,
    "pycharm": {
     "name": "#%% md\n"
    }
   }
  },
  {
   "cell_type": "code",
   "execution_count": 8,
   "outputs": [
    {
     "data": {
      "text/plain": "   Rank                    Title                     Genre  \\\n0     1  Guardians of the Galaxy   Action,Adventure,Sci-Fi   \n1     2               Prometheus  Adventure,Mystery,Sci-Fi   \n2     3                    Split           Horror,Thriller   \n3     4                     Sing   Animation,Comedy,Family   \n4     5            Suicide Squad  Action,Adventure,Fantasy   \n\n                                         Description              Director  \\\n0  A group of intergalactic criminals are forced ...            James Gunn   \n1  Following clues to the origin of mankind, a te...          Ridley Scott   \n2  Three girls are kidnapped by a man with a diag...    M. Night Shyamalan   \n3  In a city of humanoid animals, a hustling thea...  Christophe Lourdelet   \n4  A secret government agency recruits some of th...            David Ayer   \n\n                                              Actors  Year  Runtime (Minutes)  \\\n0  Chris Pratt, Vin Diesel, Bradley Cooper, Zoe S...  2014                121   \n1  Noomi Rapace, Logan Marshall-Green, Michael Fa...  2012                124   \n2  James McAvoy, Anya Taylor-Joy, Haley Lu Richar...  2016                117   \n3  Matthew McConaughey,Reese Witherspoon, Seth Ma...  2016                108   \n4  Will Smith, Jared Leto, Margot Robbie, Viola D...  2016                123   \n\n   Rating   Votes  Revenue (Millions)  Metascore  \n0     8.1  757074              333.13       76.0  \n1     7.0  485820              126.46       65.0  \n2     7.3  157606              138.12       62.0  \n3     7.2   60545              270.32       59.0  \n4     6.2  393727              325.02       40.0  ",
      "text/html": "<div>\n<style scoped>\n    .dataframe tbody tr th:only-of-type {\n        vertical-align: middle;\n    }\n\n    .dataframe tbody tr th {\n        vertical-align: top;\n    }\n\n    .dataframe thead th {\n        text-align: right;\n    }\n</style>\n<table border=\"1\" class=\"dataframe\">\n  <thead>\n    <tr style=\"text-align: right;\">\n      <th></th>\n      <th>Rank</th>\n      <th>Title</th>\n      <th>Genre</th>\n      <th>Description</th>\n      <th>Director</th>\n      <th>Actors</th>\n      <th>Year</th>\n      <th>Runtime (Minutes)</th>\n      <th>Rating</th>\n      <th>Votes</th>\n      <th>Revenue (Millions)</th>\n      <th>Metascore</th>\n    </tr>\n  </thead>\n  <tbody>\n    <tr>\n      <th>0</th>\n      <td>1</td>\n      <td>Guardians of the Galaxy</td>\n      <td>Action,Adventure,Sci-Fi</td>\n      <td>A group of intergalactic criminals are forced ...</td>\n      <td>James Gunn</td>\n      <td>Chris Pratt, Vin Diesel, Bradley Cooper, Zoe S...</td>\n      <td>2014</td>\n      <td>121</td>\n      <td>8.1</td>\n      <td>757074</td>\n      <td>333.13</td>\n      <td>76.0</td>\n    </tr>\n    <tr>\n      <th>1</th>\n      <td>2</td>\n      <td>Prometheus</td>\n      <td>Adventure,Mystery,Sci-Fi</td>\n      <td>Following clues to the origin of mankind, a te...</td>\n      <td>Ridley Scott</td>\n      <td>Noomi Rapace, Logan Marshall-Green, Michael Fa...</td>\n      <td>2012</td>\n      <td>124</td>\n      <td>7.0</td>\n      <td>485820</td>\n      <td>126.46</td>\n      <td>65.0</td>\n    </tr>\n    <tr>\n      <th>2</th>\n      <td>3</td>\n      <td>Split</td>\n      <td>Horror,Thriller</td>\n      <td>Three girls are kidnapped by a man with a diag...</td>\n      <td>M. Night Shyamalan</td>\n      <td>James McAvoy, Anya Taylor-Joy, Haley Lu Richar...</td>\n      <td>2016</td>\n      <td>117</td>\n      <td>7.3</td>\n      <td>157606</td>\n      <td>138.12</td>\n      <td>62.0</td>\n    </tr>\n    <tr>\n      <th>3</th>\n      <td>4</td>\n      <td>Sing</td>\n      <td>Animation,Comedy,Family</td>\n      <td>In a city of humanoid animals, a hustling thea...</td>\n      <td>Christophe Lourdelet</td>\n      <td>Matthew McConaughey,Reese Witherspoon, Seth Ma...</td>\n      <td>2016</td>\n      <td>108</td>\n      <td>7.2</td>\n      <td>60545</td>\n      <td>270.32</td>\n      <td>59.0</td>\n    </tr>\n    <tr>\n      <th>4</th>\n      <td>5</td>\n      <td>Suicide Squad</td>\n      <td>Action,Adventure,Fantasy</td>\n      <td>A secret government agency recruits some of th...</td>\n      <td>David Ayer</td>\n      <td>Will Smith, Jared Leto, Margot Robbie, Viola D...</td>\n      <td>2016</td>\n      <td>123</td>\n      <td>6.2</td>\n      <td>393727</td>\n      <td>325.02</td>\n      <td>40.0</td>\n    </tr>\n  </tbody>\n</table>\n</div>"
     },
     "execution_count": 8,
     "metadata": {},
     "output_type": "execute_result"
    }
   ],
   "source": [
    "movieDataFilepath = os.path.join(os.getcwd(), 'datasets','IMDB-Movie-Data.csv')\n",
    "movieData = pd.read_csv(movieDataFilepath)\n",
    "movieData.head()"
   ],
   "metadata": {
    "collapsed": false,
    "pycharm": {
     "name": "#%%\n"
    }
   }
  },
  {
   "cell_type": "markdown",
   "source": [
    "Check the information about the columns:"
   ],
   "metadata": {
    "collapsed": false,
    "pycharm": {
     "name": "#%% md\n"
    }
   }
  },
  {
   "cell_type": "code",
   "execution_count": 11,
   "outputs": [
    {
     "name": "stdout",
     "output_type": "stream",
     "text": [
      "<class 'pandas.core.frame.DataFrame'>\n",
      "RangeIndex: 1000 entries, 0 to 999\n",
      "Data columns (total 12 columns):\n",
      " #   Column              Non-Null Count  Dtype  \n",
      "---  ------              --------------  -----  \n",
      " 0   Rank                1000 non-null   int64  \n",
      " 1   Title               1000 non-null   object \n",
      " 2   Genre               1000 non-null   object \n",
      " 3   Description         1000 non-null   object \n",
      " 4   Director            1000 non-null   object \n",
      " 5   Actors              1000 non-null   object \n",
      " 6   Year                1000 non-null   int64  \n",
      " 7   Runtime (Minutes)   1000 non-null   int64  \n",
      " 8   Rating              1000 non-null   float64\n",
      " 9   Votes               1000 non-null   int64  \n",
      " 10  Revenue (Millions)  872 non-null    float64\n",
      " 11  Metascore           936 non-null    float64\n",
      "dtypes: float64(3), int64(4), object(5)\n",
      "memory usage: 93.9+ KB\n"
     ]
    }
   ],
   "source": [
    "movieData.info()"
   ],
   "metadata": {
    "collapsed": false,
    "pycharm": {
     "name": "#%%\n"
    }
   }
  },
  {
   "cell_type": "code",
   "execution_count": 15,
   "outputs": [
    {
     "data": {
      "text/plain": "          id                          listing_url       scrape_id  \\\n0      15420   https://www.airbnb.com/rooms/15420  20221216161317   \n1     707097  https://www.airbnb.com/rooms/707097  20221216161317   \n2     728199  https://www.airbnb.com/rooms/728199  20221216161317   \n3     732008  https://www.airbnb.com/rooms/732008  20221216161317   \n4     744710  https://www.airbnb.com/rooms/744710  20221216161317   \n...      ...                                  ...             ...   \n7384  362653  https://www.airbnb.com/rooms/362653  20221216161317   \n7385  363642  https://www.airbnb.com/rooms/363642  20221216161317   \n7386  376937  https://www.airbnb.com/rooms/376937  20221216161317   \n7387  388297  https://www.airbnb.com/rooms/388297  20221216161317   \n7388  389318  https://www.airbnb.com/rooms/389318  20221216161317   \n\n     last_scraped           source  \\\n0      2022-12-16      city scrape   \n1      2022-12-16      city scrape   \n2      2022-12-16      city scrape   \n3      2022-12-16      city scrape   \n4      2022-12-16      city scrape   \n...           ...              ...   \n7384   2022-12-16  previous scrape   \n7385   2022-12-16      city scrape   \n7386   2022-12-16  previous scrape   \n7387   2022-12-16      city scrape   \n7388   2022-12-16      city scrape   \n\n                                                   name  \\\n0                     Georgian Boutique Apt City Centre   \n1     Centre Royal Mile Apartment 3 bedrooms 2 bathr...   \n2      Private room in central, spacious and comfy flat   \n3                             51 18 Caledonian Crescent   \n4     Refurbished Flat in a Georgian Era Building in...   \n...                                                 ...   \n7384                   Papermill Wynd Chiara Apartment,   \n7385                 Wonderful/beautiful room Edinburgh   \n7386                         Dario Apartment, Edinburgh   \n7387  Stunning villa by Holyrood Park -parking & gar...   \n7388  City centre. Walk to Castle, Museum etc. Own b...   \n\n                                            description  \\\n0     Stunning, spacious ground floor apartment minu...   \n1                                                   NaN   \n2     Fantastic main door flat over two levels withi...   \n3     This beautiful third floor apartment is set in...   \n4     A stunning apartment in the heart of Edinburgh...   \n...                                                 ...   \n7384  <b>The space</b><br />Located just off McDonal...   \n7385  <b>The space</b><br />Room over looking the Pe...   \n7386  <b>The space</b><br />Dario is a new modern ap...   \n7387  On the doorstep of Arthur's Seat and Holyrood ...   \n7388  The Space<br />Situated in a quiet Mews courty...   \n\n                                  neighborhood_overview  \\\n0     The neighbourhood is in the historic New Town,...   \n1     The location is the perfect for tourism , shor...   \n2     Great location for access to the city centre, ...   \n3                                                   NaN   \n4     The apartment is in a Central Edinburgh neighb...   \n...                                                 ...   \n7384                                                NaN   \n7385  Close to the city centre.  But surrounded by g...   \n7386                                                NaN   \n7387                                                NaN   \n7388  Southside is a bustling, vibrant, local commun...   \n\n                                            picture_url  host_id  ...  \\\n0     https://a0.muscache.com/pictures/cf69631f-4194...    60423  ...   \n1     https://a0.muscache.com/pictures/6e2ded8d-f20b...  3092851  ...   \n2     https://a0.muscache.com/pictures/11315577/0091...  3776412  ...   \n3     https://a0.muscache.com/pictures/prohost-api/H...  3810279  ...   \n4     https://a0.muscache.com/pictures/monet/Select-...  3737047  ...   \n...                                                 ...      ...  ...   \n7384  https://a0.muscache.com/pictures/4125585/a5d0d...  1775021  ...   \n7385  https://a0.muscache.com/pictures/6856782/0250f...  1837147  ...   \n7386  https://a0.muscache.com/pictures/5920211/54edb...  1775021  ...   \n7387  https://a0.muscache.com/pictures/3e4f5835-dbbc...  1942840  ...   \n7388  https://a0.muscache.com/pictures/8f4042e8-d39f...  1947854  ...   \n\n     review_scores_communication review_scores_location review_scores_value  \\\n0                           4.98                   4.98                4.91   \n1                           4.72                   4.94                4.09   \n2                           4.97                   4.73                4.79   \n3                           4.81                   4.71                4.70   \n4                           4.96                   4.96                4.86   \n...                          ...                    ...                 ...   \n7384                        4.77                   4.51                4.59   \n7385                        4.92                   4.62                4.74   \n7386                        4.81                   4.62                4.58   \n7387                        4.91                   4.66                4.77   \n7388                        4.96                   4.89                4.82   \n\n     license instant_bookable calculated_host_listings_count  \\\n0        NaN                f                              1   \n1        NaN                t                              8   \n2        NaN                f                              1   \n3        NaN                t                              2   \n4        NaN                t                              1   \n...      ...              ...                            ...   \n7384     NaN                f                              4   \n7385     NaN                f                              1   \n7386     NaN                f                              4   \n7387     NaN                f                              3   \n7388     NaN                f                              1   \n\n     calculated_host_listings_count_entire_homes  \\\n0                                              1   \n1                                              6   \n2                                              0   \n3                                              2   \n4                                              1   \n...                                          ...   \n7384                                           3   \n7385                                           0   \n7386                                           3   \n7387                                           3   \n7388                                           0   \n\n     calculated_host_listings_count_private_rooms  \\\n0                                               0   \n1                                               2   \n2                                               1   \n3                                               0   \n4                                               0   \n...                                           ...   \n7384                                            1   \n7385                                            1   \n7386                                            1   \n7387                                            0   \n7388                                            1   \n\n     calculated_host_listings_count_shared_rooms reviews_per_month  \n0                                              0              3.10  \n1                                              0              0.55  \n2                                              0              2.86  \n3                                              0              2.27  \n4                                              0              1.73  \n...                                          ...               ...  \n7384                                           0              0.33  \n7385                                           0              0.54  \n7386                                           0              0.63  \n7387                                           0              0.74  \n7388                                           0              3.03  \n\n[7389 rows x 75 columns]",
      "text/html": "<div>\n<style scoped>\n    .dataframe tbody tr th:only-of-type {\n        vertical-align: middle;\n    }\n\n    .dataframe tbody tr th {\n        vertical-align: top;\n    }\n\n    .dataframe thead th {\n        text-align: right;\n    }\n</style>\n<table border=\"1\" class=\"dataframe\">\n  <thead>\n    <tr style=\"text-align: right;\">\n      <th></th>\n      <th>id</th>\n      <th>listing_url</th>\n      <th>scrape_id</th>\n      <th>last_scraped</th>\n      <th>source</th>\n      <th>name</th>\n      <th>description</th>\n      <th>neighborhood_overview</th>\n      <th>picture_url</th>\n      <th>host_id</th>\n      <th>...</th>\n      <th>review_scores_communication</th>\n      <th>review_scores_location</th>\n      <th>review_scores_value</th>\n      <th>license</th>\n      <th>instant_bookable</th>\n      <th>calculated_host_listings_count</th>\n      <th>calculated_host_listings_count_entire_homes</th>\n      <th>calculated_host_listings_count_private_rooms</th>\n      <th>calculated_host_listings_count_shared_rooms</th>\n      <th>reviews_per_month</th>\n    </tr>\n  </thead>\n  <tbody>\n    <tr>\n      <th>0</th>\n      <td>15420</td>\n      <td>https://www.airbnb.com/rooms/15420</td>\n      <td>20221216161317</td>\n      <td>2022-12-16</td>\n      <td>city scrape</td>\n      <td>Georgian Boutique Apt City Centre</td>\n      <td>Stunning, spacious ground floor apartment minu...</td>\n      <td>The neighbourhood is in the historic New Town,...</td>\n      <td>https://a0.muscache.com/pictures/cf69631f-4194...</td>\n      <td>60423</td>\n      <td>...</td>\n      <td>4.98</td>\n      <td>4.98</td>\n      <td>4.91</td>\n      <td>NaN</td>\n      <td>f</td>\n      <td>1</td>\n      <td>1</td>\n      <td>0</td>\n      <td>0</td>\n      <td>3.10</td>\n    </tr>\n    <tr>\n      <th>1</th>\n      <td>707097</td>\n      <td>https://www.airbnb.com/rooms/707097</td>\n      <td>20221216161317</td>\n      <td>2022-12-16</td>\n      <td>city scrape</td>\n      <td>Centre Royal Mile Apartment 3 bedrooms 2 bathr...</td>\n      <td>NaN</td>\n      <td>The location is the perfect for tourism , shor...</td>\n      <td>https://a0.muscache.com/pictures/6e2ded8d-f20b...</td>\n      <td>3092851</td>\n      <td>...</td>\n      <td>4.72</td>\n      <td>4.94</td>\n      <td>4.09</td>\n      <td>NaN</td>\n      <td>t</td>\n      <td>8</td>\n      <td>6</td>\n      <td>2</td>\n      <td>0</td>\n      <td>0.55</td>\n    </tr>\n    <tr>\n      <th>2</th>\n      <td>728199</td>\n      <td>https://www.airbnb.com/rooms/728199</td>\n      <td>20221216161317</td>\n      <td>2022-12-16</td>\n      <td>city scrape</td>\n      <td>Private room in central, spacious and comfy flat</td>\n      <td>Fantastic main door flat over two levels withi...</td>\n      <td>Great location for access to the city centre, ...</td>\n      <td>https://a0.muscache.com/pictures/11315577/0091...</td>\n      <td>3776412</td>\n      <td>...</td>\n      <td>4.97</td>\n      <td>4.73</td>\n      <td>4.79</td>\n      <td>NaN</td>\n      <td>f</td>\n      <td>1</td>\n      <td>0</td>\n      <td>1</td>\n      <td>0</td>\n      <td>2.86</td>\n    </tr>\n    <tr>\n      <th>3</th>\n      <td>732008</td>\n      <td>https://www.airbnb.com/rooms/732008</td>\n      <td>20221216161317</td>\n      <td>2022-12-16</td>\n      <td>city scrape</td>\n      <td>51 18 Caledonian Crescent</td>\n      <td>This beautiful third floor apartment is set in...</td>\n      <td>NaN</td>\n      <td>https://a0.muscache.com/pictures/prohost-api/H...</td>\n      <td>3810279</td>\n      <td>...</td>\n      <td>4.81</td>\n      <td>4.71</td>\n      <td>4.70</td>\n      <td>NaN</td>\n      <td>t</td>\n      <td>2</td>\n      <td>2</td>\n      <td>0</td>\n      <td>0</td>\n      <td>2.27</td>\n    </tr>\n    <tr>\n      <th>4</th>\n      <td>744710</td>\n      <td>https://www.airbnb.com/rooms/744710</td>\n      <td>20221216161317</td>\n      <td>2022-12-16</td>\n      <td>city scrape</td>\n      <td>Refurbished Flat in a Georgian Era Building in...</td>\n      <td>A stunning apartment in the heart of Edinburgh...</td>\n      <td>The apartment is in a Central Edinburgh neighb...</td>\n      <td>https://a0.muscache.com/pictures/monet/Select-...</td>\n      <td>3737047</td>\n      <td>...</td>\n      <td>4.96</td>\n      <td>4.96</td>\n      <td>4.86</td>\n      <td>NaN</td>\n      <td>t</td>\n      <td>1</td>\n      <td>1</td>\n      <td>0</td>\n      <td>0</td>\n      <td>1.73</td>\n    </tr>\n    <tr>\n      <th>...</th>\n      <td>...</td>\n      <td>...</td>\n      <td>...</td>\n      <td>...</td>\n      <td>...</td>\n      <td>...</td>\n      <td>...</td>\n      <td>...</td>\n      <td>...</td>\n      <td>...</td>\n      <td>...</td>\n      <td>...</td>\n      <td>...</td>\n      <td>...</td>\n      <td>...</td>\n      <td>...</td>\n      <td>...</td>\n      <td>...</td>\n      <td>...</td>\n      <td>...</td>\n      <td>...</td>\n    </tr>\n    <tr>\n      <th>7384</th>\n      <td>362653</td>\n      <td>https://www.airbnb.com/rooms/362653</td>\n      <td>20221216161317</td>\n      <td>2022-12-16</td>\n      <td>previous scrape</td>\n      <td>Papermill Wynd Chiara Apartment,</td>\n      <td>&lt;b&gt;The space&lt;/b&gt;&lt;br /&gt;Located just off McDonal...</td>\n      <td>NaN</td>\n      <td>https://a0.muscache.com/pictures/4125585/a5d0d...</td>\n      <td>1775021</td>\n      <td>...</td>\n      <td>4.77</td>\n      <td>4.51</td>\n      <td>4.59</td>\n      <td>NaN</td>\n      <td>f</td>\n      <td>4</td>\n      <td>3</td>\n      <td>1</td>\n      <td>0</td>\n      <td>0.33</td>\n    </tr>\n    <tr>\n      <th>7385</th>\n      <td>363642</td>\n      <td>https://www.airbnb.com/rooms/363642</td>\n      <td>20221216161317</td>\n      <td>2022-12-16</td>\n      <td>city scrape</td>\n      <td>Wonderful/beautiful room Edinburgh</td>\n      <td>&lt;b&gt;The space&lt;/b&gt;&lt;br /&gt;Room over looking the Pe...</td>\n      <td>Close to the city centre.  But surrounded by g...</td>\n      <td>https://a0.muscache.com/pictures/6856782/0250f...</td>\n      <td>1837147</td>\n      <td>...</td>\n      <td>4.92</td>\n      <td>4.62</td>\n      <td>4.74</td>\n      <td>NaN</td>\n      <td>f</td>\n      <td>1</td>\n      <td>0</td>\n      <td>1</td>\n      <td>0</td>\n      <td>0.54</td>\n    </tr>\n    <tr>\n      <th>7386</th>\n      <td>376937</td>\n      <td>https://www.airbnb.com/rooms/376937</td>\n      <td>20221216161317</td>\n      <td>2022-12-16</td>\n      <td>previous scrape</td>\n      <td>Dario Apartment, Edinburgh</td>\n      <td>&lt;b&gt;The space&lt;/b&gt;&lt;br /&gt;Dario is a new modern ap...</td>\n      <td>NaN</td>\n      <td>https://a0.muscache.com/pictures/5920211/54edb...</td>\n      <td>1775021</td>\n      <td>...</td>\n      <td>4.81</td>\n      <td>4.62</td>\n      <td>4.58</td>\n      <td>NaN</td>\n      <td>f</td>\n      <td>4</td>\n      <td>3</td>\n      <td>1</td>\n      <td>0</td>\n      <td>0.63</td>\n    </tr>\n    <tr>\n      <th>7387</th>\n      <td>388297</td>\n      <td>https://www.airbnb.com/rooms/388297</td>\n      <td>20221216161317</td>\n      <td>2022-12-16</td>\n      <td>city scrape</td>\n      <td>Stunning villa by Holyrood Park -parking &amp; gar...</td>\n      <td>On the doorstep of Arthur's Seat and Holyrood ...</td>\n      <td>NaN</td>\n      <td>https://a0.muscache.com/pictures/3e4f5835-dbbc...</td>\n      <td>1942840</td>\n      <td>...</td>\n      <td>4.91</td>\n      <td>4.66</td>\n      <td>4.77</td>\n      <td>NaN</td>\n      <td>f</td>\n      <td>3</td>\n      <td>3</td>\n      <td>0</td>\n      <td>0</td>\n      <td>0.74</td>\n    </tr>\n    <tr>\n      <th>7388</th>\n      <td>389318</td>\n      <td>https://www.airbnb.com/rooms/389318</td>\n      <td>20221216161317</td>\n      <td>2022-12-16</td>\n      <td>city scrape</td>\n      <td>City centre. Walk to Castle, Museum etc. Own b...</td>\n      <td>The Space&lt;br /&gt;Situated in a quiet Mews courty...</td>\n      <td>Southside is a bustling, vibrant, local commun...</td>\n      <td>https://a0.muscache.com/pictures/8f4042e8-d39f...</td>\n      <td>1947854</td>\n      <td>...</td>\n      <td>4.96</td>\n      <td>4.89</td>\n      <td>4.82</td>\n      <td>NaN</td>\n      <td>f</td>\n      <td>1</td>\n      <td>0</td>\n      <td>1</td>\n      <td>0</td>\n      <td>3.03</td>\n    </tr>\n  </tbody>\n</table>\n<p>7389 rows × 75 columns</p>\n</div>"
     },
     "execution_count": 15,
     "metadata": {},
     "output_type": "execute_result"
    }
   ],
   "source": [
    "dat = pd.read_csv('https://www.inf.ed.ac.uk/teaching/courses/fds/data/project-2022-2023/airbnb/listings.csv.gz')\n",
    "dat"
   ],
   "metadata": {
    "collapsed": false,
    "pycharm": {
     "name": "#%%\n"
    }
   }
  },
  {
   "cell_type": "markdown",
   "source": [],
   "metadata": {
    "collapsed": false,
    "pycharm": {
     "name": "#%% md\n"
    }
   }
  }
 ],
 "metadata": {
  "kernelspec": {
   "display_name": "Python 3",
   "language": "python",
   "name": "python3"
  },
  "language_info": {
   "codemirror_mode": {
    "name": "ipython",
    "version": 2
   },
   "file_extension": ".py",
   "mimetype": "text/x-python",
   "name": "python",
   "nbconvert_exporter": "python",
   "pygments_lexer": "ipython2",
   "version": "2.7.6"
  }
 },
 "nbformat": 4,
 "nbformat_minor": 0
}